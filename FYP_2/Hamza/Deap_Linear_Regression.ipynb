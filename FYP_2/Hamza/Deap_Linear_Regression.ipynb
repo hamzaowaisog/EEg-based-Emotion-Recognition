{
 "cells": [
  {
   "cell_type": "code",
   "execution_count": 1,
   "metadata": {},
   "outputs": [
    {
     "name": "stdout",
     "output_type": "stream",
     "text": [
      "Using device: cuda\n"
     ]
    }
   ],
   "source": [
    "import torch\n",
    "import torch.nn as nn\n",
    "import torch.nn.functional as F\n",
    "from torch.utils.data import Dataset, DataLoader, WeightedRandomSampler\n",
    "import numpy as np\n",
    "from sklearn.metrics import accuracy_score, confusion_matrix\n",
    "import seaborn as sns\n",
    "import matplotlib.pyplot as plt\n",
    "import os\n",
    "from torch.optim.lr_scheduler import CosineAnnealingWarmRestarts\n",
    "\n",
    "# Create directories\n",
    "os.makedirs(\"checkpoints\", exist_ok=True)\n",
    "os.makedirs(\"logs\", exist_ok=True)\n",
    "os.makedirs(\"plots\", exist_ok=True)\n",
    "\n",
    "# Device setup\n",
    "device = torch.device(\"cuda\" if torch.cuda.is_available() else \"cpu\")\n",
    "print(f\"Using device: {device}\")"
   ]
  },
  {
   "cell_type": "code",
   "execution_count": 3,
   "metadata": {},
   "outputs": [
    {
     "name": "stderr",
     "output_type": "stream",
     "text": [
      "<>:13: SyntaxWarning: invalid escape sequence '\\F'\n",
      "<>:14: SyntaxWarning: invalid escape sequence '\\F'\n",
      "<>:13: SyntaxWarning: invalid escape sequence '\\F'\n",
      "<>:14: SyntaxWarning: invalid escape sequence '\\F'\n",
      "C:\\Users\\hamza\\AppData\\Local\\Temp\\ipykernel_20060\\754377537.py:13: SyntaxWarning: invalid escape sequence '\\F'\n",
      "  dataset = DEAPDataset(root_path=f'E:\\FYP\\DEAP_dataset\\zip_files\\data_preprocessed_python',\n",
      "C:\\Users\\hamza\\AppData\\Local\\Temp\\ipykernel_20060\\754377537.py:14: SyntaxWarning: invalid escape sequence '\\F'\n",
      "  io_path=f'E:\\FYP\\Finalise Fyp\\EEg-based-Emotion-Recognition\\FYP_2\\Hamza\\.torcheeg\\datasets_1747100363968_wpFQ9',\n",
      "[2025-05-14 05:53:21] INFO (torcheeg/MainThread) 🔍 | Detected cached processing results, reading cache from E:\\FYP\\Finalise Fyp\\EEg-based-Emotion-Recognition\\FYP_2\\Hamza\\.torcheeg\\datasets_1747100363968_wpFQ9.\n"
     ]
    },
    {
     "name": "stdout",
     "output_type": "stream",
     "text": [
      "(tensor([[[1.1133, 3.0094, 3.4046, 3.0341, 1.6964],\n",
      "         [1.0742, 3.2409, 3.3717, 3.1913, 1.5171],\n",
      "         [1.1781, 3.4088, 3.1853, 3.2634, 1.9229],\n",
      "         [1.6778, 2.6700, 3.3696, 3.1086, 1.7142],\n",
      "         [0.6457, 2.2498, 2.9879, 2.5813, 1.1083],\n",
      "         [1.1392, 2.2641, 2.7772, 2.7511, 1.0465],\n",
      "         [0.0125, 2.1866, 3.2820, 2.8930, 1.3125],\n",
      "         [1.2121, 3.1930, 3.3882, 3.4827, 2.5031],\n",
      "         [0.5054, 2.7580, 3.6947, 2.9956, 1.5674],\n",
      "         [0.6462, 2.7226, 3.4068, 2.5674, 1.2629],\n",
      "         [1.0938, 3.4452, 3.9285, 3.1678, 1.8972],\n",
      "         [1.5552, 3.2019, 3.9790, 3.4432, 2.4233],\n",
      "         [1.4797, 3.4187, 4.0361, 3.1311, 1.9660],\n",
      "         [1.6763, 3.3519, 3.8791, 3.1933, 2.2270],\n",
      "         [1.0572, 3.1224, 3.7096, 2.9091, 1.7720],\n",
      "         [1.3668, 3.0972, 3.4053, 2.5028, 1.1896],\n",
      "         [1.3244, 3.7032, 3.5050, 3.4798, 1.8252],\n",
      "         [1.5007, 3.3375, 3.5419, 3.3965, 1.5551],\n",
      "         [1.3846, 3.5990, 3.4498, 3.0084, 1.2822],\n",
      "         [1.4698, 3.9276, 3.3478, 3.2223, 1.7465],\n",
      "         [0.7357, 2.9823, 3.6849, 3.6507, 1.7795],\n",
      "         [0.5490, 2.6607, 3.2021, 3.0293, 1.1245],\n",
      "         [0.9948, 2.9606, 3.0307, 2.7033, 1.3563],\n",
      "         [0.5365, 2.0937, 2.9056, 2.8855, 1.3348],\n",
      "         [0.8897, 2.4196, 2.6690, 2.6278, 1.4977],\n",
      "         [0.5243, 2.9299, 3.4267, 2.9097, 1.8532],\n",
      "         [0.5445, 2.0242, 2.8100, 2.6135, 1.5725],\n",
      "         [0.4988, 2.2708, 3.1535, 2.5606, 1.2480],\n",
      "         [0.7541, 3.4128, 3.2245, 3.1360, 1.9460],\n",
      "         [1.5460, 2.7227, 3.1374, 2.9097, 1.9830],\n",
      "         [1.2325, 3.3930, 3.5129, 2.9193, 1.8288],\n",
      "         [1.0256, 2.9939, 3.6274, 2.9436, 1.4814]]]), 3)\n"
     ]
    }
   ],
   "source": [
    "from torcheeg.datasets import DEAPDataset\n",
    "from torcheeg import transforms\n",
    "from torcheeg.datasets.constants import DEAP_CHANNEL_LOCATION_DICT\n",
    "\n",
    "freq_bands = {\n",
    "    \"delta\": (1, 4),\n",
    "    \"theta\": (4, 8),\n",
    "    \"alpha\": (8, 14),\n",
    "    \"beta\": (14, 30),\n",
    "    \"gamma\": (31, 50),\n",
    "}\n",
    "\n",
    "dataset = DEAPDataset(root_path=f'E:\\FYP\\DEAP_dataset\\zip_files\\data_preprocessed_python',\n",
    "                      io_path=f'E:\\FYP\\Finalise Fyp\\EEg-based-Emotion-Recognition\\FYP_2\\Hamza\\.torcheeg\\datasets_1747100363968_wpFQ9',\n",
    "                      offline_transform=transforms.Compose([\n",
    "                             transforms.BandDifferentialEntropy(band_dict=freq_bands),  # Apply DE feature extraction\n",
    "                      ]),\n",
    "                      online_transform=transforms.Compose([\n",
    "                          transforms.To2d(),\n",
    "                          transforms.ToTensor()\n",
    "                      ]),\n",
    "                      label_transform=transforms.Compose([\n",
    "                          transforms.Select(['valence', 'arousal']),\n",
    "                          transforms.Binary(5.0),\n",
    "                          transforms.BinariesToCategory()\n",
    "                      ]),\n",
    "                      num_worker=4)\n",
    "print(dataset[0])"
   ]
  },
  {
   "cell_type": "code",
   "execution_count": 4,
   "metadata": {},
   "outputs": [
    {
     "name": "stdout",
     "output_type": "stream",
     "text": [
      "✅ Dataset loaded with 76800 samples\n"
     ]
    }
   ],
   "source": [
    "print(f\"✅ Dataset loaded with {len(dataset)} samples\")"
   ]
  },
  {
   "cell_type": "code",
   "execution_count": 7,
   "metadata": {},
   "outputs": [
    {
     "name": "stdout",
     "output_type": "stream",
     "text": [
      "✅ Features shape: (76800, 160), Labels shape: (76800,)\n"
     ]
    }
   ],
   "source": [
    "X = []\n",
    "y = []\n",
    "\n",
    "for sample in dataset:\n",
    "    feature_vector,label = sample\n",
    "\n",
    "    X.append(feature_vector.flatten().numpy())\n",
    "    y.append(label)\n",
    "\n",
    "X = np.array(X)\n",
    "y = np.array(y)\n",
    "\n",
    "print(f\"✅ Features shape: {X.shape}, Labels shape: {y.shape}\")"
   ]
  },
  {
   "cell_type": "code",
   "execution_count": 15,
   "metadata": {},
   "outputs": [
    {
     "name": "stdout",
     "output_type": "stream",
     "text": [
      "📊 Classification Report:\n",
      "                                precision    recall  f1-score   support\n",
      "\n",
      "  Low Val & Low Arou (Class 0)       0.38      0.24      0.29      3120\n",
      " Low Val & High Arou (Class 1)       0.40      0.32      0.36      3552\n",
      " High Val & Low Arou (Class 2)       0.42      0.31      0.36      3192\n",
      "High Val & High Arou (Class 3)       0.44      0.66      0.53      5496\n",
      "\n",
      "                      accuracy                           0.42     15360\n",
      "                     macro avg       0.41      0.38      0.38     15360\n",
      "                  weighted avg       0.42      0.42      0.41     15360\n",
      "\n",
      "🧮 Confusion Matrix:\n",
      "[[ 740  455  437 1488]\n",
      " [ 331 1153  390 1678]\n",
      " [ 350  467  983 1392]\n",
      " [ 542  793  513 3648]]\n"
     ]
    },
    {
     "name": "stderr",
     "output_type": "stream",
     "text": [
      "e:\\FYP\\Finalise Fyp\\EEg-based-Emotion-Recognition\\.venv\\Lib\\site-packages\\sklearn\\linear_model\\_logistic.py:469: ConvergenceWarning: lbfgs failed to converge (status=1):\n",
      "STOP: TOTAL NO. of ITERATIONS REACHED LIMIT.\n",
      "\n",
      "Increase the number of iterations (max_iter) or scale the data as shown in:\n",
      "    https://scikit-learn.org/stable/modules/preprocessing.html\n",
      "Please also refer to the documentation for alternative solver options:\n",
      "    https://scikit-learn.org/stable/modules/linear_model.html#logistic-regression\n",
      "  n_iter_i = _check_optimize_result(\n"
     ]
    }
   ],
   "source": [
    "import numpy as np\n",
    "from sklearn.linear_model import LogisticRegression\n",
    "from sklearn.model_selection import train_test_split\n",
    "from sklearn.metrics import classification_report, confusion_matrix\n",
    "\n",
    "# Step 1: Convert dataset to features and labels\n",
    "X = []\n",
    "y = []\n",
    "\n",
    "for sample in dataset:\n",
    "    eeg_tensor, label = sample[0], sample[1]  # Category label from 0 to 3\n",
    "    X.append(eeg_tensor.flatten().numpy())  # shape (160,)\n",
    "    y.append(label)  # convert tensor scalar to int\n",
    "\n",
    "X = np.array(X)\n",
    "y = np.array(y)\n",
    "\n",
    "# Step 2: Train-test split\n",
    "X_train, X_test, y_train, y_test = train_test_split(\n",
    "    X, y, stratify=y, test_size=0.2, random_state=42\n",
    ")\n",
    "\n",
    "# Step 3: Train classifier\n",
    "clf = LogisticRegression(max_iter=1000)\n",
    "clf.fit(X_train, y_train)\n",
    "\n",
    "# Step 4: Predict and evaluate\n",
    "y_pred = clf.predict(X_test)\n",
    "\n",
    "print(\"📊 Classification Report:\")\n",
    "print(classification_report(y_test, y_pred, target_names=[\n",
    "    \"Low Val & Low Arou (Class 0)\",\n",
    "    \"Low Val & High Arou (Class 1)\",\n",
    "    \"High Val & Low Arou (Class 2)\",\n",
    "    \"High Val & High Arou (Class 3)\"\n",
    "]))\n",
    "\n",
    "print(\"🧮 Confusion Matrix:\")\n",
    "print(confusion_matrix(y_test, y_pred))\n"
   ]
  },
  {
   "cell_type": "code",
   "execution_count": 13,
   "metadata": {},
   "outputs": [
    {
     "name": "stdout",
     "output_type": "stream",
     "text": [
      "Classification Report:\n",
      "              precision    recall  f1-score   support\n",
      "\n",
      "           0       0.38      0.24      0.29      3120\n",
      "           1       0.40      0.32      0.36      3552\n",
      "           2       0.42      0.31      0.36      3192\n",
      "           3       0.44      0.66      0.53      5496\n",
      "\n",
      "    accuracy                           0.42     15360\n",
      "   macro avg       0.41      0.38      0.38     15360\n",
      "weighted avg       0.42      0.42      0.41     15360\n",
      "\n",
      "Confusion Matrix:\n",
      "[[ 740  455  437 1488]\n",
      " [ 331 1153  390 1678]\n",
      " [ 350  467  983 1392]\n",
      " [ 542  793  513 3648]]\n"
     ]
    },
    {
     "name": "stderr",
     "output_type": "stream",
     "text": [
      "e:\\FYP\\Finalise Fyp\\EEg-based-Emotion-Recognition\\.venv\\Lib\\site-packages\\sklearn\\linear_model\\_logistic.py:469: ConvergenceWarning: lbfgs failed to converge (status=1):\n",
      "STOP: TOTAL NO. of ITERATIONS REACHED LIMIT.\n",
      "\n",
      "Increase the number of iterations (max_iter) or scale the data as shown in:\n",
      "    https://scikit-learn.org/stable/modules/preprocessing.html\n",
      "Please also refer to the documentation for alternative solver options:\n",
      "    https://scikit-learn.org/stable/modules/linear_model.html#logistic-regression\n",
      "  n_iter_i = _check_optimize_result(\n"
     ]
    }
   ],
   "source": [
    "from sklearn.linear_model import LogisticRegression\n",
    "from sklearn.model_selection import train_test_split\n",
    "from sklearn.metrics import classification_report, confusion_matrix\n",
    "import numpy as np\n",
    "\n",
    "X = []\n",
    "y = []\n",
    "\n",
    "for sample in dataset:\n",
    "    eeg_tensor, label = sample  # (or unpack as a tuple)\n",
    "    X.append(eeg_tensor.flatten().numpy())\n",
    "    y.append(label)  # convert tensor scalar to int\n",
    "\n",
    "X = np.array(X)\n",
    "y = np.array(y)\n",
    "\n",
    "# Train-test split\n",
    "X_train, X_test, y_train, y_test = train_test_split(X, y, stratify=y, test_size=0.2, random_state=42)\n",
    "\n",
    "# Train classifier\n",
    "clf = LogisticRegression(max_iter=1000)\n",
    "clf.fit(X_train, y_train)\n",
    "\n",
    "# Predict and evaluate\n",
    "y_pred = clf.predict(X_test)\n",
    "\n",
    "print(\"Classification Report:\")\n",
    "print(classification_report(y_test, y_pred))\n",
    "\n",
    "print(\"Confusion Matrix:\")\n",
    "print(confusion_matrix(y_test, y_pred))\n"
   ]
  },
  {
   "cell_type": "code",
   "execution_count": 16,
   "metadata": {},
   "outputs": [
    {
     "name": "stdout",
     "output_type": "stream",
     "text": [
      "         Pred -1  Pred 0  Pred 1\n",
      "True -1     8514    1383     327\n",
      "True 0      1100    8763     253\n",
      "True 1       612     597    9465\n"
     ]
    },
    {
     "data": {
      "image/png": "[encoded data removed]",
      "text/plain": [
       "<Figure size 800x600 with 1 Axes>"
      ]
     },
     "metadata": {},
     "output_type": "display_data"
    }
   ],
   "source": [
    "import numpy as np\n",
    "import pandas as pd\n",
    "import matplotlib.pyplot as plt\n",
    "import seaborn as sns\n",
    "\n",
    "# Raw confusion matrix\n",
    "conf_matrix = np.array([\n",
    "    [8514, 1383, 327],\n",
    "    [1100, 8763, 253],\n",
    "    [612, 597, 9465]\n",
    "])\n",
    "\n",
    "# Define labels\n",
    "labels = [-1, 0, 1]\n",
    "\n",
    "# Create a labeled DataFrame\n",
    "df_cm = pd.DataFrame(conf_matrix, index=[f'True {i}' for i in labels], columns=[f'Pred {i}' for i in labels])\n",
    "\n",
    "# Print the DataFrame\n",
    "print(df_cm)\n",
    "\n",
    "# Plot the heatmap\n",
    "plt.figure(figsize=(8, 6))\n",
    "sns.heatmap(df_cm, annot=True, fmt='d', cmap='Blues', cbar=False)\n",
    "plt.title('Confusion Matrix')\n",
    "plt.xlabel('Predicted Label')\n",
    "plt.ylabel('True Label')\n",
    "plt.tight_layout()\n",
    "plt.show()\n"
   ]
  },
  {
   "cell_type": "code",
   "execution_count": null,
   "metadata": {},
   "outputs": [],
   "source": []
  }
 ],
 "metadata": {
  "kernelspec": {
   "display_name": ".venv",
   "language": "python",
   "name": "python3"
  },
  "language_info": {
   "codemirror_mode": {
    "name": "ipython",
    "version": 3
   },
   "file_extension": ".py",
   "mimetype": "text/x-python",
   "name": "python",
   "nbconvert_exporter": "python",
   "pygments_lexer": "ipython3",
   "version": "3.12.4"
  }
 },
 "nbformat": 4,
 "nbformat_minor": 2
}
