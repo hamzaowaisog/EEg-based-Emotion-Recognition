{
 "cells": [
  {
   "cell_type": "code",
   "execution_count": 1,
   "id": "d166b1dc",
   "metadata": {},
   "outputs": [],
   "source": [
    "import torch\n",
    "import torch.nn as nn\n",
    "import torch.nn.functional as F\n",
    "import torch.optim as optim\n",
    "import numpy as np\n",
    "import os\n",
    "import scipy.io\n",
    "from scipy.signal import butter, lfilter\n",
    "import scipy.signal"
   ]
  },
  {
   "cell_type": "code",
   "execution_count": 2,
   "id": "70df0f8f",
   "metadata": {},
   "outputs": [
    {
     "name": "stdout",
     "output_type": "stream",
     "text": [
      "✅ EEG Data Shape: (32, 40, 40, 8064)\n",
      "✅ Emotion Labels Shape: (32, 40)\n",
      "Classes Found: (array([0, 1, 2, 3]), array([260, 296, 266, 458], dtype=int64))\n"
     ]
    }
   ],
   "source": [
    "import scipy.io\n",
    "import numpy as np\n",
    "import os\n",
    "\n",
    "data_path = \"E:/FYP/Finalise Fyp/EEg-based-Emotion-Recognition/data_preprocessed_matlab/\"\n",
    "subject_data = []\n",
    "subject_labels = []\n",
    "\n",
    "for i in range(1, 33):\n",
    "    file_path = os.path.join(data_path, f\"s{i:02d}.mat\")\n",
    "    \n",
    "    if not os.path.exists(file_path):\n",
    "        print(f\"⚠️ File missing: {file_path}\")\n",
    "        continue\n",
    "\n",
    "    mat = scipy.io.loadmat(file_path)\n",
    "    \n",
    "    eeg = mat[\"data\"]            # Shape: (40, 40, 8064)\n",
    "    labels = mat[\"labels\"]       # Shape: (40, 4)\n",
    "    \n",
    "    # Map to 4-class emotion labels (Valence & Arousal)\n",
    "    valence = labels[:, 0]\n",
    "    arousal = labels[:, 1]\n",
    "\n",
    "    four_class_labels = np.zeros_like(valence, dtype=int)\n",
    "    four_class_labels[(valence >= 5) & (arousal >= 5)] = 3\n",
    "    four_class_labels[(valence < 5) & (arousal >= 5)] = 1\n",
    "    four_class_labels[(valence >= 5) & (arousal < 5)] = 2\n",
    "    four_class_labels[(valence < 5) & (arousal < 5)] = 0\n",
    "\n",
    "    subject_data.append(eeg)                # (40, 40, 8064)\n",
    "    subject_labels.append(four_class_labels)  # (40,)\n",
    "\n",
    "# Final stacked arrays\n",
    "subject_data = np.array(subject_data)     # Shape: (32, 40, 40, 8064)\n",
    "subject_labels = np.array(subject_labels) # Shape: (32, 40)\n",
    "\n",
    "print(\"✅ EEG Data Shape:\", subject_data.shape)\n",
    "print(\"✅ Emotion Labels Shape:\", subject_labels.shape)\n",
    "print(\"Classes Found:\", np.unique(subject_labels, return_counts=True))\n"
   ]
  },
  {
   "cell_type": "code",
   "execution_count": null,
   "id": "55cc45ee",
   "metadata": {},
   "outputs": [],
   "source": []
  }
 ],
 "metadata": {
  "kernelspec": {
   "display_name": ".venv",
   "language": "python",
   "name": "python3"
  },
  "language_info": {
   "codemirror_mode": {
    "name": "ipython",
    "version": 3
   },
   "file_extension": ".py",
   "mimetype": "text/x-python",
   "name": "python",
   "nbconvert_exporter": "python",
   "pygments_lexer": "ipython3",
   "version": "3.12.4"
  }
 },
 "nbformat": 4,
 "nbformat_minor": 5
}
