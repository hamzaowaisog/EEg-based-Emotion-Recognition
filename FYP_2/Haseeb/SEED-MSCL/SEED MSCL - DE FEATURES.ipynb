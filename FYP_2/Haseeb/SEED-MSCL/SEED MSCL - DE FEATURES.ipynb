{
 "cells": [
  {
   "cell_type": "markdown",
   "metadata": {},
   "source": [
    "🧠 Step 1: Loading and Structuring the SEED Dataset (DE Features - 4s)\n",
    "This code cell is responsible for parsing the SEED dataset from the ExtractedFeatures_4s folder and converting it into a structured Python list of trials. Each trial includes subject metadata, emotion labels, and pooled DE features.\n",
    "\n",
    "📥 Dataset Description\n",
    "We use Differential Entropy (DE) features extracted from EEG signals with a 4-second sliding window. DE is a widely used feature in EEG-based emotion recognition because it reflects signal power across frequency bands under the assumption that EEG follows a Gaussian distribution [1].\n",
    "\n",
    "Each .mat file corresponds to one session of a subject and contains:\n",
    "\n",
    "15 trials (de_movingAve1 to de_movingAve15)\n",
    "\n",
    "Each trial: shape (62 channels × time windows × 5 frequency bands)\n",
    "\n",
    "The accompanying label.mat file provides ground-truth emotion labels at the subject level:\n",
    "\n",
    "+1: Positive emotion\n",
    "\n",
    "0: Neutral emotion\n",
    "\n",
    "−1: Negative emotion\n",
    "\n",
    "⚙️ Code Functionality\n",
    "Load the subject-level emotion labels from label.mat.\n",
    "\n",
    "Parse 45 EEG session files (15 subjects × 3 sessions).\n",
    "\n",
    "For each trial:\n",
    "\n",
    "Perform mean pooling across the time axis.\n",
    "\n",
    "Flatten the resulting 2D matrix (62 × 5) into a 1D vector (310 features).\n",
    "\n",
    "Store subject ID, session ID, trial ID, label, and DE features.\n",
    "\n",
    "This structure facilitates subject-aware learning and helps us later in applying multi-source contrastive learning.\n",
    "\n",
    "🎯 Motivation for Mean Pooling\n",
    "Since EEG signals are highly non-stationary, pooling over the temporal axis stabilizes the input features and reduces model complexity without discarding key spectral information. This is crucial for generalization across subjects [2].\n",
    "\n",
    "🔀 Step A: Balanced Subject Split for Training/Validation/Test\n",
    "We perform a subject-level split to prevent data leakage and overfitting, ensuring that the model generalizes to unseen subjects:\n",
    "\n",
    "Train subjects (9): IDs 7–15\n",
    "\n",
    "Validation subjects (3): IDs 4–6 (one per class)\n",
    "\n",
    "Test subjects (3): IDs 1–3 (one per class)\n",
    "\n",
    "This setup enables multi-source contrastive learning (training on multiple source domains) and testing on unseen target domains, aligning with domain generalization principles [3].\n",
    "\n",
    "Such a stratified LOSO-style split (by subject, not trial) is crucial for fair evaluation in EEG-based emotion recognition, where inter-subject variability is high.\n",
    "\n",
    "✅ Outcome\n",
    "675 trials extracted (45 sessions × 15 trials)\n",
    "\n",
    "Each trial contains 310 DE features\n",
    "\n",
    "Trials grouped into train/val/test for cross-subject learning\n",
    "\n",
    "📚 References\n",
    "\n",
    "[1] Duan, R., Zhu, J., Lu, B. L. (2013). \"Differential entropy feature for EEG-based emotion classification\". In 2013 6th International IEEE/EMBS Conference on Neural Engineering (NER).\n",
    "\n",
    "[2] Li, Y., Zheng, W., & Lu, B. L. (2018). \"Emotion recognition using fusion of graph CNN and LSTM networks\". In Brain-Computer Interface research.\n",
    "\n",
    "[3] Pan, S. J., & Yang, Q. (2010). \"A survey on transfer learning\". IEEE Transactions on Knowledge and Data Engineering."
   ]
  },
  {
   "cell_type": "code",
   "execution_count": 1,
   "metadata": {
    "_cell_guid": "b1076dfc-b9ad-4769-8c92-a6c4dae69d19",
    "_uuid": "8f2839f25d086af736a60e9eeb907d3b93b6e0e5",
    "execution": {
     "iopub.execute_input": "2025-05-11T21:03:00.319305Z",
     "iopub.status.busy": "2025-05-11T21:03:00.319062Z",
     "iopub.status.idle": "2025-05-11T21:03:06.449373Z",
     "shell.execute_reply": "2025-05-11T21:03:06.448506Z",
     "shell.execute_reply.started": "2025-05-11T21:03:00.319283Z"
    },
    "trusted": true
   },
   "outputs": [
    {
     "name": "stdout",
     "output_type": "stream",
     "text": [
      "✅ Subject-level labels loaded: [ 1  0 -1 -1  0  1 -1  0  1  1  0 -1  0  1 -1]\n",
      "\n",
      "✅ Loaded 675 trials across 45 sessions\n",
      "📊 Sample trial:\n",
      "subject: 10\n",
      "session: 20131130\n",
      "trial_id: 0\n",
      "label: 1\n",
      "de: (310,)\n"
     ]
    }
   ],
   "source": [
    "import scipy.io\n",
    "import os\n",
    "import re\n",
    "import numpy as np\n",
    "\n",
    "DATASET_PATH = '/kaggle/input/eeg-extracted-4s/ExtractedFeatures_4s'\n",
    "label_file = os.path.join(DATASET_PATH, 'label.mat')\n",
    "\n",
    "# Load subject-level emotion labels\n",
    "label_data = scipy.io.loadmat(label_file)\n",
    "subject_labels = label_data['label'].flatten()  # shape: (15,)\n",
    "print(\"✅ Subject-level labels loaded:\", subject_labels)\n",
    "\n",
    "# Load all .mat files except label\n",
    "all_files = sorted([f for f in os.listdir(DATASET_PATH) if f.endswith('.mat') and f != 'label.mat'])\n",
    "\n",
    "dataset = []\n",
    "\n",
    "for file in all_files:\n",
    "    path = os.path.join(DATASET_PATH, file)\n",
    "    mat = scipy.io.loadmat(path)\n",
    "\n",
    "    # Parse subject ID from filename\n",
    "    match = re.match(r\"(\\d+)_(\\d+)\\.mat\", file)\n",
    "    subject_id = int(match.group(1))\n",
    "    session_id = match.group(2)\n",
    "\n",
    "    # Get subject-level emotion label\n",
    "    label = int(subject_labels[subject_id - 1])  # subject IDs are 1-indexed\n",
    "\n",
    "    # Collect 15 trials from the session\n",
    "    for i in range(1, 16):\n",
    "        trial_key = f\"de_movingAve{i}\"\n",
    "        raw_de = mat[trial_key]  # shape: (62, T, 5)\n",
    "        pooled = np.mean(raw_de, axis=1)  # (62, 5)\n",
    "        flat = pooled.flatten()  # (310,)\n",
    "\n",
    "        dataset.append({\n",
    "            \"subject\": subject_id,\n",
    "            \"session\": session_id,\n",
    "            \"trial_id\": i - 1,\n",
    "            \"label\": label,\n",
    "            \"de\": flat\n",
    "        })\n",
    "\n",
    "print(f\"\\n✅ Loaded {len(dataset)} trials across {len(all_files)} sessions\")\n",
    "print(\"📊 Sample trial:\")\n",
    "for k, v in dataset[0].items():\n",
    "    print(f\"{k}: {v if isinstance(v, (int, str)) else v.shape}\")"
   ]
  },
  {
   "cell_type": "code",
   "execution_count": 2,
   "metadata": {
    "execution": {
     "iopub.execute_input": "2025-05-11T21:03:06.450408Z",
     "iopub.status.busy": "2025-05-11T21:03:06.450085Z",
     "iopub.status.idle": "2025-05-11T21:03:06.457202Z",
     "shell.execute_reply": "2025-05-11T21:03:06.456442Z",
     "shell.execute_reply.started": "2025-05-11T21:03:06.450388Z"
    },
    "trusted": true
   },
   "outputs": [
    {
     "name": "stdout",
     "output_type": "stream",
     "text": [
      "📋 All subjects: [1, 2, 3, 4, 5, 6, 7, 8, 9, 10, 11, 12, 13, 14, 15]\n",
      "\n",
      "📊 Subject split:\n",
      "Train subjects: [9, 14, 8, 7, 15, 13, 6, 3, 10, 4, 5]\n",
      "Val subjects:   [12, 1]\n",
      "Test subjects:  [2, 11]\n",
      "\n",
      "✅ Trial counts:\n",
      "Train trials: 495\n",
      "Val trials:   90\n",
      "Test trials:  90\n"
     ]
    }
   ],
   "source": [
    "import random\n",
    "from collections import defaultdict\n",
    "\n",
    "# Reproducibility\n",
    "random.seed(42)\n",
    "\n",
    "# Extract all subject IDs from the dataset\n",
    "all_subjects = sorted(list(set([sample['subject'] for sample in dataset])))\n",
    "print(\"📋 All subjects:\", all_subjects)\n",
    "\n",
    "# Shuffle and split\n",
    "random.shuffle(all_subjects)\n",
    "train_subjects = all_subjects[:11]\n",
    "val_subjects   = all_subjects[11:13]\n",
    "test_subjects  = all_subjects[13:]\n",
    "\n",
    "print(\"\\n📊 Subject split:\")\n",
    "print(\"Train subjects:\", train_subjects)\n",
    "print(\"Val subjects:  \", val_subjects)\n",
    "print(\"Test subjects: \", test_subjects)\n",
    "\n",
    "# Now group trials based on the split\n",
    "train_set = [x for x in dataset if x['subject'] in train_subjects]\n",
    "val_set   = [x for x in dataset if x['subject'] in val_subjects]\n",
    "test_set  = [x for x in dataset if x['subject'] in test_subjects]\n",
    "\n",
    "print(\"\\n✅ Trial counts:\")\n",
    "print(\"Train trials:\", len(train_set))\n",
    "print(\"Val trials:  \", len(val_set))\n",
    "print(\"Test trials: \", len(test_set))"
   ]
  },
  {
   "cell_type": "code",
   "execution_count": 3,
   "metadata": {
    "execution": {
     "iopub.execute_input": "2025-05-11T21:03:06.458294Z",
     "iopub.status.busy": "2025-05-11T21:03:06.458014Z",
     "iopub.status.idle": "2025-05-11T21:03:06.475077Z",
     "shell.execute_reply": "2025-05-11T21:03:06.474465Z",
     "shell.execute_reply.started": "2025-05-11T21:03:06.458248Z"
    },
    "trusted": true
   },
   "outputs": [
    {
     "name": "stdout",
     "output_type": "stream",
     "text": [
      "\n",
      "✅ Balanced subject split\n",
      "Train subjects: [7, 8, 9, 10, 11, 12, 13, 14, 15]\n",
      "Val subjects:   [4, 5, 6]\n",
      "Test subjects:  [1, 2, 3]\n",
      "Train trials: 405\n",
      "Val trials:   135\n",
      "Test trials:  135\n"
     ]
    }
   ],
   "source": [
    "# Custom balanced subject split (Step A)\n",
    "train_subjects = [7, 8, 9, 10, 11, 12, 13, 14, 15]\n",
    "val_subjects   = [4, 5, 6]     # 1x neg, 1x neutral, 1x positive\n",
    "test_subjects  = [1, 2, 3]     # 1x pos, 1x neutral, 1x neg\n",
    "\n",
    "# Now group trials based on the split\n",
    "train_set = [x for x in dataset if x['subject'] in train_subjects]\n",
    "val_set   = [x for x in dataset if x['subject'] in val_subjects]\n",
    "test_set  = [x for x in dataset if x['subject'] in test_subjects]\n",
    "\n",
    "print(\"\\n✅ Balanced subject split\")\n",
    "print(\"Train subjects:\", train_subjects)\n",
    "print(\"Val subjects:  \", val_subjects)\n",
    "print(\"Test subjects: \", test_subjects)\n",
    "print(\"Train trials:\", len(train_set))\n",
    "print(\"Val trials:  \", len(val_set))\n",
    "print(\"Test trials: \", len(test_set))"
   ]
  },
  {
   "cell_type": "code",
   "execution_count": 4,
   "metadata": {
    "execution": {
     "iopub.execute_input": "2025-05-11T21:03:06.477190Z",
     "iopub.status.busy": "2025-05-11T21:03:06.476740Z",
     "iopub.status.idle": "2025-05-11T21:03:10.243358Z",
     "shell.execute_reply": "2025-05-11T21:03:10.242621Z",
     "shell.execute_reply.started": "2025-05-11T21:03:06.477167Z"
    },
    "trusted": true
   },
   "outputs": [],
   "source": [
    "import torch\n",
    "from torch.utils.data import Dataset, DataLoader\n",
    "\n",
    "class EEGTrialDataset(Dataset):\n",
    "    def __init__(self, data):\n",
    "        self.data = data\n",
    "\n",
    "    def __len__(self):\n",
    "        return len(self.data)\n",
    "\n",
    "    def __getitem__(self, idx):\n",
    "        trial = self.data[idx]\n",
    "        de = torch.tensor(trial['de'], dtype=torch.float32)\n",
    "        label = torch.tensor(trial['label'], dtype=torch.long)\n",
    "        subject = torch.tensor(trial['subject'], dtype=torch.long)\n",
    "        session = trial['session']  # Keep as string for now (if needed for analysis)\n",
    "        return de, label, subject, session"
   ]
  },
  {
   "cell_type": "code",
   "execution_count": 5,
   "metadata": {
    "execution": {
     "iopub.execute_input": "2025-05-11T21:03:10.244453Z",
     "iopub.status.busy": "2025-05-11T21:03:10.244080Z",
     "iopub.status.idle": "2025-05-11T21:03:10.249849Z",
     "shell.execute_reply": "2025-05-11T21:03:10.248987Z",
     "shell.execute_reply.started": "2025-05-11T21:03:10.244425Z"
    },
    "trusted": true
   },
   "outputs": [
    {
     "name": "stdout",
     "output_type": "stream",
     "text": [
      "✅ DataLoaders created\n"
     ]
    }
   ],
   "source": [
    "# Create PyTorch datasets\n",
    "train_dataset = EEGTrialDataset(train_set)\n",
    "val_dataset   = EEGTrialDataset(val_set)\n",
    "test_dataset  = EEGTrialDataset(test_set)\n",
    "\n",
    "# Create DataLoaders\n",
    "batch_size = 64\n",
    "\n",
    "train_loader = DataLoader(train_dataset, batch_size=batch_size, shuffle=True)\n",
    "val_loader   = DataLoader(val_dataset, batch_size=batch_size, shuffle=False)\n",
    "test_loader  = DataLoader(test_dataset, batch_size=batch_size, shuffle=False)\n",
    "\n",
    "print(\"✅ DataLoaders created\")"
   ]
  },
  {
   "cell_type": "code",
   "execution_count": 6,
   "metadata": {
    "execution": {
     "iopub.execute_input": "2025-05-11T21:03:10.250829Z",
     "iopub.status.busy": "2025-05-11T21:03:10.250617Z",
     "iopub.status.idle": "2025-05-11T21:03:10.324020Z",
     "shell.execute_reply": "2025-05-11T21:03:10.323217Z",
     "shell.execute_reply.started": "2025-05-11T21:03:10.250804Z"
    },
    "trusted": true
   },
   "outputs": [
    {
     "name": "stdout",
     "output_type": "stream",
     "text": [
      "📦 Batch shapes:\n",
      "DE features: torch.Size([64, 310])\n",
      "Labels:      torch.Size([64])\n",
      "Subjects:    torch.Size([64])\n",
      "Sessions:    ('20140704', '20140630', '20140511')\n"
     ]
    }
   ],
   "source": [
    "# View a sample batch\n",
    "sample_batch = next(iter(train_loader))\n",
    "de_batch, label_batch, subject_batch, session_batch = sample_batch\n",
    "\n",
    "print(\"📦 Batch shapes:\")\n",
    "print(\"DE features:\", de_batch.shape)\n",
    "print(\"Labels:     \", label_batch.shape)\n",
    "print(\"Subjects:   \", subject_batch.shape)\n",
    "print(\"Sessions:   \", session_batch[:3])  # just show a few"
   ]
  },
  {
   "cell_type": "code",
   "execution_count": 7,
   "metadata": {
    "execution": {
     "iopub.execute_input": "2025-05-11T21:03:10.325023Z",
     "iopub.status.busy": "2025-05-11T21:03:10.324805Z",
     "iopub.status.idle": "2025-05-11T21:03:10.330985Z",
     "shell.execute_reply": "2025-05-11T21:03:10.330310Z",
     "shell.execute_reply.started": "2025-05-11T21:03:10.325003Z"
    },
    "trusted": true
   },
   "outputs": [],
   "source": [
    "import torch.nn as nn\n",
    "import torch.nn.functional as F\n",
    "\n",
    "class DEEncoder(nn.Module):\n",
    "    def __init__(self, input_dim=310, hidden_dim=128, projection_dim=64):\n",
    "        super().__init__()\n",
    "        self.encoder = nn.Sequential(\n",
    "            nn.Linear(input_dim, hidden_dim),\n",
    "            nn.ReLU(),\n",
    "            nn.BatchNorm1d(hidden_dim)\n",
    "        )\n",
    "        self.projection = nn.Sequential(\n",
    "            nn.Linear(hidden_dim, hidden_dim),\n",
    "            nn.ReLU(),\n",
    "            nn.BatchNorm1d(hidden_dim),\n",
    "            nn.Linear(hidden_dim, projection_dim)\n",
    "        )\n",
    "\n",
    "    def forward(self, x):\n",
    "        h = self.encoder(x)         # Representation\n",
    "        z = self.projection(h)      # Projection head\n",
    "        z = F.normalize(z, dim=1)   # L2 normalize for contrastive loss\n",
    "        return h, z"
   ]
  },
  {
   "cell_type": "code",
   "execution_count": 8,
   "metadata": {
    "execution": {
     "iopub.execute_input": "2025-05-11T21:03:10.331971Z",
     "iopub.status.busy": "2025-05-11T21:03:10.331769Z",
     "iopub.status.idle": "2025-05-11T21:03:10.920450Z",
     "shell.execute_reply": "2025-05-11T21:03:10.919712Z",
     "shell.execute_reply.started": "2025-05-11T21:03:10.331957Z"
    },
    "trusted": true
   },
   "outputs": [
    {
     "name": "stdout",
     "output_type": "stream",
     "text": [
      "✅ Forward pass complete:\n",
      "Representation shape: torch.Size([64, 128])\n",
      "Projected embedding shape: torch.Size([64, 64])\n"
     ]
    }
   ],
   "source": [
    "# Instantiate model and push to GPU if available\n",
    "device = torch.device(\"cuda\" if torch.cuda.is_available() else \"cpu\")\n",
    "model = DEEncoder().to(device)\n",
    "\n",
    "# Get a sample batch\n",
    "de_batch, label_batch, subject_batch, session_batch = next(iter(train_loader))\n",
    "de_batch = de_batch.to(device)\n",
    "\n",
    "# Forward pass\n",
    "h_batch, z_batch = model(de_batch)\n",
    "\n",
    "print(\"✅ Forward pass complete:\")\n",
    "print(\"Representation shape:\", h_batch.shape)\n",
    "print(\"Projected embedding shape:\", z_batch.shape)"
   ]
  },
  {
   "cell_type": "code",
   "execution_count": 9,
   "metadata": {
    "execution": {
     "iopub.execute_input": "2025-05-11T21:03:10.921472Z",
     "iopub.status.busy": "2025-05-11T21:03:10.921224Z",
     "iopub.status.idle": "2025-05-11T21:03:10.927969Z",
     "shell.execute_reply": "2025-05-11T21:03:10.927304Z",
     "shell.execute_reply.started": "2025-05-11T21:03:10.921445Z"
    },
    "trusted": true
   },
   "outputs": [],
   "source": [
    "class SupConLoss(nn.Module):\n",
    "    def __init__(self, temperature=0.07):\n",
    "        super(SupConLoss, self).__init__()\n",
    "        self.temperature = temperature\n",
    "\n",
    "    def forward(self, features, labels):\n",
    "        \"\"\"\n",
    "        features: (batch_size, projection_dim) → L2-normalized\n",
    "        labels:   (batch_size,) → int\n",
    "        \"\"\"\n",
    "        device = features.device\n",
    "        batch_size = features.shape[0]\n",
    "\n",
    "        # Cosine similarity matrix: (B, B)\n",
    "        sim_matrix = torch.div(\n",
    "            torch.matmul(features, features.T), self.temperature\n",
    "        )\n",
    "\n",
    "        # Mask to exclude self-similarity\n",
    "        mask = torch.eye(batch_size, dtype=torch.bool).to(device)\n",
    "        sim_matrix.masked_fill_(mask, -1e9)\n",
    "\n",
    "        labels = labels.contiguous().view(-1, 1)\n",
    "        match_mask = torch.eq(labels, labels.T).float().to(device)\n",
    "        \n",
    "        # ⛔ Remove self-comparisons from the match mask\n",
    "        mask = torch.eye(batch_size, dtype=torch.bool).to(device)\n",
    "        match_mask = match_mask.masked_fill(mask, 0)  # Zero out the diagonal\n",
    "\n",
    "        # For each anchor, compute denominator over all other samples\n",
    "        exp_sim = torch.exp(sim_matrix)\n",
    "        log_prob = sim_matrix - torch.log(exp_sim.sum(dim=1, keepdim=True) + 1e-9)\n",
    "\n",
    "        # Apply supervised mask to get positives only\n",
    "        mean_log_prob_pos = (match_mask * log_prob).sum(1) / match_mask.sum(1).clamp(min=1)\n",
    "\n",
    "        # Final loss\n",
    "        loss = -mean_log_prob_pos.mean()\n",
    "\n",
    "        return loss"
   ]
  },
  {
   "cell_type": "code",
   "execution_count": 10,
   "metadata": {
    "execution": {
     "iopub.execute_input": "2025-05-11T21:03:10.928850Z",
     "iopub.status.busy": "2025-05-11T21:03:10.928683Z",
     "iopub.status.idle": "2025-05-11T21:03:11.251987Z",
     "shell.execute_reply": "2025-05-11T21:03:11.251178Z",
     "shell.execute_reply.started": "2025-05-11T21:03:10.928837Z"
    },
    "trusted": true
   },
   "outputs": [
    {
     "name": "stdout",
     "output_type": "stream",
     "text": [
      "✅ Contrastive loss: 9.966450691223145\n"
     ]
    }
   ],
   "source": [
    "# Prepare batch on GPU\n",
    "label_batch = label_batch.to(device)\n",
    "\n",
    "# Compute SupCon Loss\n",
    "criterion = SupConLoss(temperature=0.07)\n",
    "loss = criterion(z_batch, label_batch)\n",
    "\n",
    "print(\"✅ Contrastive loss:\", loss.item())"
   ]
  },
  {
   "cell_type": "code",
   "execution_count": 11,
   "metadata": {
    "execution": {
     "iopub.execute_input": "2025-05-11T21:03:11.253441Z",
     "iopub.status.busy": "2025-05-11T21:03:11.252864Z",
     "iopub.status.idle": "2025-05-11T21:03:11.259353Z",
     "shell.execute_reply": "2025-05-11T21:03:11.258588Z",
     "shell.execute_reply.started": "2025-05-11T21:03:11.253414Z"
    },
    "trusted": true
   },
   "outputs": [],
   "source": [
    "from tqdm import tqdm\n",
    "\n",
    "def train_one_epoch(model, dataloader, criterion, optimizer, device):\n",
    "    model.train()\n",
    "    running_loss = 0.0\n",
    "\n",
    "    for de, labels, _, _ in tqdm(dataloader, desc=\"🟢 Training\"):\n",
    "        de = de.to(device)\n",
    "        labels = labels.to(device)\n",
    "\n",
    "        _, embeddings = model(de)\n",
    "        loss = criterion(embeddings, labels)\n",
    "\n",
    "        optimizer.zero_grad()\n",
    "        loss.backward()\n",
    "        optimizer.step()\n",
    "\n",
    "        running_loss += loss.item()\n",
    "\n",
    "    avg_loss = running_loss / len(dataloader)\n",
    "    return avg_loss\n",
    "\n",
    "\n",
    "def validate(model, dataloader, criterion, device):\n",
    "    model.eval()\n",
    "    total_loss = 0.0\n",
    "\n",
    "    with torch.no_grad():\n",
    "        for de, labels, _, _ in dataloader:\n",
    "            de = de.to(device)\n",
    "            labels = labels.to(device)\n",
    "\n",
    "            _, embeddings = model(de)\n",
    "            loss = criterion(embeddings, labels)\n",
    "\n",
    "            total_loss += loss.item()\n",
    "\n",
    "    avg_loss = total_loss / len(dataloader)\n",
    "    return avg_loss"
   ]
  },
  {
   "cell_type": "code",
   "execution_count": 12,
   "metadata": {
    "execution": {
     "iopub.execute_input": "2025-05-11T21:03:11.260355Z",
     "iopub.status.busy": "2025-05-11T21:03:11.260108Z",
     "iopub.status.idle": "2025-05-11T21:03:14.088317Z",
     "shell.execute_reply": "2025-05-11T21:03:14.087247Z",
     "shell.execute_reply.started": "2025-05-11T21:03:11.260331Z"
    },
    "trusted": true
   },
   "outputs": [
    {
     "name": "stdout",
     "output_type": "stream",
     "text": [
      "\n",
      "📦 Epoch 1/10\n"
     ]
    },
    {
     "name": "stderr",
     "output_type": "stream",
     "text": [
      "🟢 Training: 100%|██████████| 7/7 [00:00<00:00, 34.67it/s]\n"
     ]
    },
    {
     "name": "stdout",
     "output_type": "stream",
     "text": [
      "✅ Train Loss: 7.9995 | Val Loss: 3.3318\n",
      "\n",
      "📦 Epoch 2/10\n"
     ]
    },
    {
     "name": "stderr",
     "output_type": "stream",
     "text": [
      "🟢 Training: 100%|██████████| 7/7 [00:00<00:00, 246.79it/s]\n"
     ]
    },
    {
     "name": "stdout",
     "output_type": "stream",
     "text": [
      "✅ Train Loss: 5.1351 | Val Loss: 3.3186\n",
      "\n",
      "📦 Epoch 3/10\n"
     ]
    },
    {
     "name": "stderr",
     "output_type": "stream",
     "text": [
      "🟢 Training: 100%|██████████| 7/7 [00:00<00:00, 250.15it/s]\n"
     ]
    },
    {
     "name": "stdout",
     "output_type": "stream",
     "text": [
      "✅ Train Loss: 4.0360 | Val Loss: 3.2809\n",
      "\n",
      "📦 Epoch 4/10\n"
     ]
    },
    {
     "name": "stderr",
     "output_type": "stream",
     "text": [
      "🟢 Training: 100%|██████████| 7/7 [00:00<00:00, 249.00it/s]\n"
     ]
    },
    {
     "name": "stdout",
     "output_type": "stream",
     "text": [
      "✅ Train Loss: 3.3123 | Val Loss: 3.2974\n",
      "\n",
      "📦 Epoch 5/10\n"
     ]
    },
    {
     "name": "stderr",
     "output_type": "stream",
     "text": [
      "🟢 Training: 100%|██████████| 7/7 [00:00<00:00, 258.31it/s]\n"
     ]
    },
    {
     "name": "stdout",
     "output_type": "stream",
     "text": [
      "✅ Train Loss: 3.2501 | Val Loss: 3.2760\n",
      "\n",
      "📦 Epoch 6/10\n"
     ]
    },
    {
     "name": "stderr",
     "output_type": "stream",
     "text": [
      "🟢 Training: 100%|██████████| 7/7 [00:00<00:00, 252.27it/s]\n"
     ]
    },
    {
     "name": "stdout",
     "output_type": "stream",
     "text": [
      "✅ Train Loss: 3.0815 | Val Loss: 3.2940\n",
      "\n",
      "📦 Epoch 7/10\n"
     ]
    },
    {
     "name": "stderr",
     "output_type": "stream",
     "text": [
      "🟢 Training: 100%|██████████| 7/7 [00:00<00:00, 198.10it/s]\n"
     ]
    },
    {
     "name": "stdout",
     "output_type": "stream",
     "text": [
      "✅ Train Loss: 2.9808 | Val Loss: 3.4886\n",
      "\n",
      "📦 Epoch 8/10\n"
     ]
    },
    {
     "name": "stderr",
     "output_type": "stream",
     "text": [
      "🟢 Training: 100%|██████████| 7/7 [00:00<00:00, 229.40it/s]\n"
     ]
    },
    {
     "name": "stdout",
     "output_type": "stream",
     "text": [
      "✅ Train Loss: 2.9949 | Val Loss: 3.2596\n",
      "\n",
      "📦 Epoch 9/10\n"
     ]
    },
    {
     "name": "stderr",
     "output_type": "stream",
     "text": [
      "🟢 Training: 100%|██████████| 7/7 [00:00<00:00, 246.03it/s]\n"
     ]
    },
    {
     "name": "stdout",
     "output_type": "stream",
     "text": [
      "✅ Train Loss: 2.9390 | Val Loss: 4.5841\n",
      "\n",
      "📦 Epoch 10/10\n"
     ]
    },
    {
     "name": "stderr",
     "output_type": "stream",
     "text": [
      "🟢 Training: 100%|██████████| 7/7 [00:00<00:00, 217.67it/s]\n"
     ]
    },
    {
     "name": "stdout",
     "output_type": "stream",
     "text": [
      "✅ Train Loss: 3.2859 | Val Loss: 3.3114\n"
     ]
    }
   ],
   "source": [
    "# Model & loss (already defined)\n",
    "model = DEEncoder().to(device)\n",
    "criterion = SupConLoss(temperature=0.07)\n",
    "optimizer = torch.optim.Adam(model.parameters(), lr=1e-3)\n",
    "\n",
    "# Training parameters\n",
    "epochs = 10\n",
    "\n",
    "train_losses = []\n",
    "val_losses = []\n",
    "\n",
    "for epoch in range(1, epochs + 1):\n",
    "    print(f\"\\n📦 Epoch {epoch}/{epochs}\")\n",
    "    \n",
    "    train_loss = train_one_epoch(model, train_loader, criterion, optimizer, device)\n",
    "    val_loss = validate(model, val_loader, criterion, device)\n",
    "\n",
    "    train_losses.append(train_loss)\n",
    "    val_losses.append(val_loss)\n",
    "\n",
    "    print(f\"✅ Train Loss: {train_loss:.4f} | Val Loss: {val_loss:.4f}\")"
   ]
  },
  {
   "cell_type": "code",
   "execution_count": 13,
   "metadata": {
    "execution": {
     "iopub.execute_input": "2025-05-11T21:03:14.089712Z",
     "iopub.status.busy": "2025-05-11T21:03:14.089329Z",
     "iopub.status.idle": "2025-05-11T21:03:14.339754Z",
     "shell.execute_reply": "2025-05-11T21:03:14.338994Z",
     "shell.execute_reply.started": "2025-05-11T21:03:14.089687Z"
    },
    "trusted": true
   },
   "outputs": [
    {
     "data": {
      "image/png": "[encoded data removed]",
      "text/plain": [
       "<Figure size 800x500 with 1 Axes>"
      ]
     },
     "metadata": {},
     "output_type": "display_data"
    }
   ],
   "source": [
    "import matplotlib.pyplot as plt\n",
    "\n",
    "plt.figure(figsize=(8, 5))\n",
    "plt.plot(train_losses, label='Train Loss')\n",
    "plt.plot(val_losses, label='Validation Loss')\n",
    "plt.xlabel(\"Epoch\")\n",
    "plt.ylabel(\"Contrastive Loss\")\n",
    "plt.title(\"Supervised Contrastive Loss over Epochs\")\n",
    "plt.legend()\n",
    "plt.grid(True)\n",
    "plt.show()"
   ]
  },
  {
   "cell_type": "code",
   "execution_count": 14,
   "metadata": {
    "execution": {
     "iopub.execute_input": "2025-05-11T21:03:14.343378Z",
     "iopub.status.busy": "2025-05-11T21:03:14.343130Z",
     "iopub.status.idle": "2025-05-11T21:03:14.350480Z",
     "shell.execute_reply": "2025-05-11T21:03:14.349783Z",
     "shell.execute_reply.started": "2025-05-11T21:03:14.343360Z"
    },
    "trusted": true
   },
   "outputs": [],
   "source": [
    "torch.manual_seed(42)\n",
    "np.random.seed(42)"
   ]
  },
  {
   "cell_type": "code",
   "execution_count": 15,
   "metadata": {
    "execution": {
     "iopub.execute_input": "2025-05-11T21:03:14.351915Z",
     "iopub.status.busy": "2025-05-11T21:03:14.351271Z",
     "iopub.status.idle": "2025-05-11T21:03:14.363224Z",
     "shell.execute_reply": "2025-05-11T21:03:14.362630Z",
     "shell.execute_reply.started": "2025-05-11T21:03:14.351892Z"
    },
    "trusted": true
   },
   "outputs": [],
   "source": [
    "def extract_encoder(model: DEEncoder):\n",
    "    encoder_only = nn.Sequential(*list(model.encoder)).to(device)\n",
    "    for param in encoder_only.parameters():\n",
    "        param.requires_grad = False\n",
    "    return encoder_only"
   ]
  },
  {
   "cell_type": "code",
   "execution_count": 16,
   "metadata": {
    "execution": {
     "iopub.execute_input": "2025-05-11T21:03:14.364190Z",
     "iopub.status.busy": "2025-05-11T21:03:14.363944Z",
     "iopub.status.idle": "2025-05-11T21:03:14.382850Z",
     "shell.execute_reply": "2025-05-11T21:03:14.382110Z",
     "shell.execute_reply.started": "2025-05-11T21:03:14.364169Z"
    },
    "trusted": true
   },
   "outputs": [],
   "source": [
    "frozen_encoder = extract_encoder(model)"
   ]
  },
  {
   "cell_type": "code",
   "execution_count": 17,
   "metadata": {
    "execution": {
     "iopub.execute_input": "2025-05-11T21:03:14.383788Z",
     "iopub.status.busy": "2025-05-11T21:03:14.383581Z",
     "iopub.status.idle": "2025-05-11T21:03:14.419412Z",
     "shell.execute_reply": "2025-05-11T21:03:14.418883Z",
     "shell.execute_reply.started": "2025-05-11T21:03:14.383765Z"
    },
    "trusted": true
   },
   "outputs": [],
   "source": [
    "def extract_features(dataloader, encoder, device):\n",
    "    encoder.eval()\n",
    "    features, labels = [], []\n",
    "\n",
    "    with torch.no_grad():\n",
    "        for de, label, _, _ in dataloader:\n",
    "            de = de.to(device)\n",
    "            h = encoder(de)  # shape: (B, 128)\n",
    "            features.append(h.cpu())\n",
    "            labels.append(label)\n",
    "\n",
    "    X = torch.cat(features, dim=0)\n",
    "    y = torch.cat(labels, dim=0)\n",
    "    return X, y\n",
    "\n",
    "X_train, y_train = extract_features(train_loader, frozen_encoder, device)\n",
    "X_val, y_val     = extract_features(val_loader, frozen_encoder, device)\n",
    "X_test, y_test   = extract_features(test_loader, frozen_encoder, device)"
   ]
  },
  {
   "cell_type": "code",
   "execution_count": 18,
   "metadata": {
    "execution": {
     "iopub.execute_input": "2025-05-11T21:03:14.420193Z",
     "iopub.status.busy": "2025-05-11T21:03:14.419999Z",
     "iopub.status.idle": "2025-05-11T21:03:14.423780Z",
     "shell.execute_reply": "2025-05-11T21:03:14.423190Z",
     "shell.execute_reply.started": "2025-05-11T21:03:14.420178Z"
    },
    "trusted": true
   },
   "outputs": [],
   "source": [
    "# from sklearn.preprocessing import StandardScaler\n",
    "\n",
    "# scaler = StandardScaler()\n",
    "# X_train = torch.tensor(scaler.fit_transform(X_train), dtype=torch.float32)\n",
    "# X_val   = torch.tensor(scaler.transform(X_val), dtype=torch.float32)\n",
    "# X_test  = torch.tensor(scaler.transform(X_test), dtype=torch.float32)\n",
    "\n",
    "X_train = X_train.float()\n",
    "X_val   = X_val.float()\n",
    "X_test  = X_test.float()"
   ]
  },
  {
   "cell_type": "code",
   "execution_count": 19,
   "metadata": {
    "execution": {
     "iopub.execute_input": "2025-05-11T21:03:14.424769Z",
     "iopub.status.busy": "2025-05-11T21:03:14.424556Z",
     "iopub.status.idle": "2025-05-11T21:03:14.443278Z",
     "shell.execute_reply": "2025-05-11T21:03:14.442602Z",
     "shell.execute_reply.started": "2025-05-11T21:03:14.424743Z"
    },
    "trusted": true
   },
   "outputs": [],
   "source": [
    "# Remap labels: -1 → 0, 0 → 1, 1 → 2\n",
    "def remap_labels(y):\n",
    "    return torch.where(y == -1, 0, torch.where(y == 0, 1, 2))\n",
    "\n",
    "y_train = remap_labels(y_train)\n",
    "y_val   = remap_labels(y_val)\n",
    "y_test  = remap_labels(y_test)"
   ]
  },
  {
   "cell_type": "code",
   "execution_count": 20,
   "metadata": {
    "execution": {
     "iopub.execute_input": "2025-05-11T21:03:14.444307Z",
     "iopub.status.busy": "2025-05-11T21:03:14.444066Z",
     "iopub.status.idle": "2025-05-11T21:03:14.913392Z",
     "shell.execute_reply": "2025-05-11T21:03:14.912828Z",
     "shell.execute_reply.started": "2025-05-11T21:03:14.444286Z"
    },
    "trusted": true
   },
   "outputs": [],
   "source": [
    "from sklearn.utils.class_weight import compute_class_weight\n",
    "\n",
    "# y_train is in remapped format: 0 = neg, 1 = neutral, 2 = positive\n",
    "class_weights = compute_class_weight(class_weight='balanced', classes=[0,1,2], y=y_train.numpy())\n",
    "class_weights = torch.tensor(class_weights, dtype=torch.float32).to(device)\n",
    "\n",
    "criterion_ce = nn.CrossEntropyLoss(weight=class_weights)\n"
   ]
  },
  {
   "cell_type": "code",
   "execution_count": 21,
   "metadata": {
    "execution": {
     "iopub.execute_input": "2025-05-11T21:03:14.914389Z",
     "iopub.status.busy": "2025-05-11T21:03:14.914083Z",
     "iopub.status.idle": "2025-05-11T21:03:14.919879Z",
     "shell.execute_reply": "2025-05-11T21:03:14.919065Z",
     "shell.execute_reply.started": "2025-05-11T21:03:14.914372Z"
    },
    "trusted": true
   },
   "outputs": [],
   "source": [
    "class MLPClassifier(nn.Module):\n",
    "    def __init__(self, input_dim=128, hidden_dim=64, num_classes=3):\n",
    "        super().__init__()\n",
    "        self.fc1 = nn.Linear(input_dim, hidden_dim)\n",
    "        self.relu = nn.ReLU()\n",
    "        self.fc2 = nn.Linear(hidden_dim, num_classes)\n",
    "\n",
    "        # ✅ Weight initialization for output layer\n",
    "        nn.init.xavier_uniform_(self.fc2.weight)\n",
    "        self.fc2.bias.data.fill_(0.0)\n",
    "\n",
    "    def forward(self, x):\n",
    "        x = self.relu(self.fc1(x))\n",
    "        return self.fc2(x)"
   ]
  },
  {
   "cell_type": "code",
   "execution_count": 22,
   "metadata": {
    "execution": {
     "iopub.execute_input": "2025-05-11T21:03:14.920779Z",
     "iopub.status.busy": "2025-05-11T21:03:14.920586Z",
     "iopub.status.idle": "2025-05-11T21:03:14.938464Z",
     "shell.execute_reply": "2025-05-11T21:03:14.937793Z",
     "shell.execute_reply.started": "2025-05-11T21:03:14.920764Z"
    },
    "trusted": true
   },
   "outputs": [],
   "source": [
    "import torch.nn as nn\n",
    "import torch.nn.functional as F\n",
    "\n",
    "class GeneralizedCrossEntropy(nn.Module):\n",
    "    def __init__(self, q=0.7):\n",
    "        super().__init__()\n",
    "        self.q = q\n",
    "        assert 0 < q <= 1, \"q should be in (0, 1]\"\n",
    "\n",
    "    def forward(self, logits, targets):\n",
    "        probs = F.softmax(logits, dim=1)  # shape: (batch_size, num_classes)\n",
    "        probs_true = probs[range(logits.size(0)), targets]  # shape: (batch_size,)\n",
    "        loss = (1 - probs_true.pow(self.q)) / self.q\n",
    "        return loss.mean()\n"
   ]
  },
  {
   "cell_type": "code",
   "execution_count": 23,
   "metadata": {
    "execution": {
     "iopub.execute_input": "2025-05-11T21:03:14.939351Z",
     "iopub.status.busy": "2025-05-11T21:03:14.939088Z",
     "iopub.status.idle": "2025-05-11T21:03:15.313015Z",
     "shell.execute_reply": "2025-05-11T21:03:15.312220Z",
     "shell.execute_reply.started": "2025-05-11T21:03:14.939327Z"
    },
    "trusted": true
   },
   "outputs": [
    {
     "name": "stdout",
     "output_type": "stream",
     "text": [
      "📦 Epoch 1 - Train Loss: 0.8053 | Val Acc: 0.4741\n",
      "📦 Epoch 2 - Train Loss: 0.7903 | Val Acc: 0.5259\n",
      "📦 Epoch 3 - Train Loss: 0.7753 | Val Acc: 0.6000\n",
      "📦 Epoch 4 - Train Loss: 0.7603 | Val Acc: 0.5852\n",
      "📦 Epoch 5 - Train Loss: 0.7455 | Val Acc: 0.5407\n",
      "📦 Epoch 6 - Train Loss: 0.7308 | Val Acc: 0.4593\n",
      "📦 Epoch 7 - Train Loss: 0.7165 | Val Acc: 0.3778\n",
      "📦 Epoch 8 - Train Loss: 0.7026 | Val Acc: 0.3407\n",
      "📦 Epoch 9 - Train Loss: 0.6893 | Val Acc: 0.3407\n",
      "📦 Epoch 10 - Train Loss: 0.6765 | Val Acc: 0.3333\n",
      "📦 Epoch 11 - Train Loss: 0.6644 | Val Acc: 0.3333\n",
      "📦 Epoch 12 - Train Loss: 0.6528 | Val Acc: 0.3333\n",
      "📦 Epoch 13 - Train Loss: 0.6418 | Val Acc: 0.3333\n",
      "📦 Epoch 14 - Train Loss: 0.6314 | Val Acc: 0.3333\n",
      "📦 Epoch 15 - Train Loss: 0.6213 | Val Acc: 0.3333\n",
      "📦 Epoch 16 - Train Loss: 0.6117 | Val Acc: 0.3333\n",
      "📦 Epoch 17 - Train Loss: 0.6023 | Val Acc: 0.3333\n",
      "📦 Epoch 18 - Train Loss: 0.5932 | Val Acc: 0.3333\n",
      "📦 Epoch 19 - Train Loss: 0.5843 | Val Acc: 0.3333\n",
      "📦 Epoch 20 - Train Loss: 0.5754 | Val Acc: 0.3333\n",
      "📦 Epoch 21 - Train Loss: 0.5667 | Val Acc: 0.3333\n",
      "📦 Epoch 22 - Train Loss: 0.5580 | Val Acc: 0.3333\n",
      "📦 Epoch 23 - Train Loss: 0.5493 | Val Acc: 0.3333\n",
      "📦 Epoch 24 - Train Loss: 0.5407 | Val Acc: 0.3333\n",
      "📦 Epoch 25 - Train Loss: 0.5322 | Val Acc: 0.3333\n",
      "📦 Epoch 26 - Train Loss: 0.5236 | Val Acc: 0.3333\n",
      "📦 Epoch 27 - Train Loss: 0.5152 | Val Acc: 0.3333\n",
      "📦 Epoch 28 - Train Loss: 0.5068 | Val Acc: 0.3333\n",
      "📦 Epoch 29 - Train Loss: 0.4985 | Val Acc: 0.3333\n",
      "📦 Epoch 30 - Train Loss: 0.4903 | Val Acc: 0.3407\n",
      "📦 Epoch 31 - Train Loss: 0.4824 | Val Acc: 0.3481\n",
      "📦 Epoch 32 - Train Loss: 0.4746 | Val Acc: 0.3481\n",
      "📦 Epoch 33 - Train Loss: 0.4671 | Val Acc: 0.3704\n",
      "📦 Epoch 34 - Train Loss: 0.4596 | Val Acc: 0.3704\n",
      "📦 Epoch 35 - Train Loss: 0.4523 | Val Acc: 0.3704\n",
      "📦 Epoch 36 - Train Loss: 0.4450 | Val Acc: 0.3630\n",
      "📦 Epoch 37 - Train Loss: 0.4378 | Val Acc: 0.3630\n",
      "📦 Epoch 38 - Train Loss: 0.4307 | Val Acc: 0.3704\n",
      "📦 Epoch 39 - Train Loss: 0.4236 | Val Acc: 0.3704\n",
      "📦 Epoch 40 - Train Loss: 0.4166 | Val Acc: 0.3852\n",
      "📦 Epoch 41 - Train Loss: 0.4096 | Val Acc: 0.3852\n",
      "📦 Epoch 42 - Train Loss: 0.4027 | Val Acc: 0.3852\n",
      "📦 Epoch 43 - Train Loss: 0.3959 | Val Acc: 0.3926\n",
      "📦 Epoch 44 - Train Loss: 0.3891 | Val Acc: 0.4000\n",
      "📦 Epoch 45 - Train Loss: 0.3824 | Val Acc: 0.4000\n",
      "📦 Epoch 46 - Train Loss: 0.3758 | Val Acc: 0.4000\n",
      "📦 Epoch 47 - Train Loss: 0.3693 | Val Acc: 0.4074\n",
      "📦 Epoch 48 - Train Loss: 0.3628 | Val Acc: 0.4074\n",
      "📦 Epoch 49 - Train Loss: 0.3565 | Val Acc: 0.4074\n",
      "📦 Epoch 50 - Train Loss: 0.3501 | Val Acc: 0.4148\n",
      "📦 Epoch 51 - Train Loss: 0.3439 | Val Acc: 0.4148\n",
      "📦 Epoch 52 - Train Loss: 0.3377 | Val Acc: 0.4148\n",
      "📦 Epoch 53 - Train Loss: 0.3316 | Val Acc: 0.4148\n",
      "📦 Epoch 54 - Train Loss: 0.3255 | Val Acc: 0.4222\n",
      "📦 Epoch 55 - Train Loss: 0.3195 | Val Acc: 0.4222\n",
      "📦 Epoch 56 - Train Loss: 0.3137 | Val Acc: 0.4222\n",
      "📦 Epoch 57 - Train Loss: 0.3079 | Val Acc: 0.4222\n",
      "📦 Epoch 58 - Train Loss: 0.3022 | Val Acc: 0.4222\n",
      "📦 Epoch 59 - Train Loss: 0.2966 | Val Acc: 0.4222\n",
      "📦 Epoch 60 - Train Loss: 0.2911 | Val Acc: 0.4296\n"
     ]
    }
   ],
   "source": [
    "clf = MLPClassifier().to(device)\n",
    "\n",
    "# Optional: you can re-include class weights here if desired\n",
    "criterion_ce = GeneralizedCrossEntropy(q=0.7)\n",
    "optimizer_clf = torch.optim.Adam(clf.parameters(), lr=5e-4)\n",
    "\n",
    "epochs = 60\n",
    "for epoch in range(1, epochs + 1):\n",
    "    clf.train()\n",
    "    logits = clf(X_train.to(device))\n",
    "    loss = criterion_ce(logits, y_train.to(device))\n",
    "\n",
    "    optimizer_clf.zero_grad()\n",
    "    loss.backward()\n",
    "    optimizer_clf.step()\n",
    "\n",
    "    # Validation\n",
    "    clf.eval()\n",
    "    with torch.no_grad():\n",
    "        val_logits = clf(X_val.to(device))\n",
    "        val_preds = torch.argmax(val_logits, dim=1)\n",
    "        val_acc = (val_preds == y_val.to(device)).float().mean().item()\n",
    "\n",
    "    print(f\"📦 Epoch {epoch} - Train Loss: {loss.item():.4f} | Val Acc: {val_acc:.4f}\")"
   ]
  },
  {
   "cell_type": "code",
   "execution_count": 24,
   "metadata": {
    "execution": {
     "iopub.execute_input": "2025-05-11T21:03:15.314136Z",
     "iopub.status.busy": "2025-05-11T21:03:15.313821Z",
     "iopub.status.idle": "2025-05-11T21:03:15.317790Z",
     "shell.execute_reply": "2025-05-11T21:03:15.317123Z",
     "shell.execute_reply.started": "2025-05-11T21:03:15.314116Z"
    },
    "trusted": true
   },
   "outputs": [],
   "source": [
    "label_names = { -1: \"Negative\", 0: \"Neutral\", 1: \"Positive\" }\n",
    "colors = { -1: 'red', 0: 'gray', 1: 'green' }"
   ]
  },
  {
   "cell_type": "code",
   "execution_count": 25,
   "metadata": {
    "execution": {
     "iopub.execute_input": "2025-05-11T21:03:15.319334Z",
     "iopub.status.busy": "2025-05-11T21:03:15.319112Z",
     "iopub.status.idle": "2025-05-11T21:03:15.338826Z",
     "shell.execute_reply": "2025-05-11T21:03:15.338290Z",
     "shell.execute_reply.started": "2025-05-11T21:03:15.319318Z"
    },
    "trusted": true
   },
   "outputs": [],
   "source": [
    "# Extract frozen features\n",
    "X_test, y_test_original = extract_features(test_loader, frozen_encoder, device)\n",
    "\n",
    "# Save this version for t-SNE\n",
    "# Don't modify it yet\n",
    "\n",
    "# Now remap only for classifier\n",
    "def remap_labels(y):\n",
    "    return torch.where(y == -1, 0, torch.where(y == 0, 1, 2))\n",
    "\n",
    "y_test = remap_labels(y_test_original)"
   ]
  },
  {
   "cell_type": "code",
   "execution_count": 26,
   "metadata": {
    "execution": {
     "iopub.execute_input": "2025-05-11T21:03:15.339908Z",
     "iopub.status.busy": "2025-05-11T21:03:15.339662Z",
     "iopub.status.idle": "2025-05-11T21:03:16.284881Z",
     "shell.execute_reply": "2025-05-11T21:03:16.284078Z",
     "shell.execute_reply.started": "2025-05-11T21:03:15.339887Z"
    },
    "trusted": true
   },
   "outputs": [
    {
     "name": "stdout",
     "output_type": "stream",
     "text": [
      "🔍 Running t-SNE...\n"
     ]
    },
    {
     "data": {
      "image/png": "[encoded data removed]",
      "text/plain": [
       "<Figure size 800x600 with 1 Axes>"
      ]
     },
     "metadata": {},
     "output_type": "display_data"
    }
   ],
   "source": [
    "from sklearn.manifold import TSNE\n",
    "import matplotlib.pyplot as plt\n",
    "\n",
    "# Convert to numpy\n",
    "X_np = X_test.numpy()\n",
    "y_np = y_test_original.numpy()\n",
    "\n",
    "# Fit t-SNE\n",
    "print(\"🔍 Running t-SNE...\")\n",
    "tsne = TSNE(n_components=2, perplexity=30, learning_rate='auto', init='pca', random_state=42)\n",
    "X_2d = tsne.fit_transform(X_np)\n",
    "\n",
    "# Plot\n",
    "plt.figure(figsize=(8, 6))\n",
    "\n",
    "for label in np.unique(y_np):\n",
    "    idx = y_np == label\n",
    "    plt.scatter(X_2d[idx, 0], X_2d[idx, 1], label=label_names[label], alpha=0.7)\n",
    "\n",
    "plt.title(\"t-SNE of Test Embeddings (Contrastive Encoder)\")\n",
    "plt.xlabel(\"TSNE-1\")\n",
    "plt.ylabel(\"TSNE-2\")\n",
    "plt.legend()\n",
    "plt.grid(True)\n",
    "plt.show()"
   ]
  },
  {
   "cell_type": "code",
   "execution_count": 27,
   "metadata": {
    "execution": {
     "iopub.execute_input": "2025-05-11T21:03:16.285987Z",
     "iopub.status.busy": "2025-05-11T21:03:16.285683Z",
     "iopub.status.idle": "2025-05-11T21:03:16.291382Z",
     "shell.execute_reply": "2025-05-11T21:03:16.290586Z",
     "shell.execute_reply.started": "2025-05-11T21:03:16.285949Z"
    },
    "trusted": true
   },
   "outputs": [],
   "source": [
    "from sklearn.metrics import classification_report, confusion_matrix, ConfusionMatrixDisplay\n",
    "\n",
    "# Predict on test set\n",
    "clf.eval()\n",
    "with torch.no_grad():\n",
    "    test_logits = clf(X_test.to(device))\n",
    "    y_pred = torch.argmax(test_logits, dim=1).cpu().numpy()\n",
    "    y_true = y_test.cpu().numpy()  # these are remapped: 0 = neg, 1 = neu, 2 = pos"
   ]
  },
  {
   "cell_type": "code",
   "execution_count": 28,
   "metadata": {
    "execution": {
     "iopub.execute_input": "2025-05-11T21:03:16.292309Z",
     "iopub.status.busy": "2025-05-11T21:03:16.292073Z",
     "iopub.status.idle": "2025-05-11T21:03:16.314200Z",
     "shell.execute_reply": "2025-05-11T21:03:16.313675Z",
     "shell.execute_reply.started": "2025-05-11T21:03:16.292290Z"
    },
    "trusted": true
   },
   "outputs": [
    {
     "name": "stdout",
     "output_type": "stream",
     "text": [
      "✅ Test Accuracy: 48.888888888888886 %\n",
      "\n",
      "📄 Classification Report:\n",
      "              precision    recall  f1-score   support\n",
      "\n",
      "    Negative       0.86      0.13      0.23        45\n",
      "     Neutral       0.31      0.33      0.32        45\n",
      "    Positive       0.56      1.00      0.72        45\n",
      "\n",
      "    accuracy                           0.49       135\n",
      "   macro avg       0.58      0.49      0.42       135\n",
      "weighted avg       0.58      0.49      0.42       135\n",
      "\n"
     ]
    }
   ],
   "source": [
    "from sklearn.metrics import accuracy_score\n",
    "\n",
    "print(\"✅ Test Accuracy:\", accuracy_score(y_true, y_pred) * 100, \"%\")\n",
    "print(\"\\n📄 Classification Report:\")\n",
    "print(classification_report(y_true, y_pred, target_names=[\"Negative\", \"Neutral\", \"Positive\"]))"
   ]
  },
  {
   "cell_type": "code",
   "execution_count": 29,
   "metadata": {
    "execution": {
     "iopub.execute_input": "2025-05-11T21:03:16.315135Z",
     "iopub.status.busy": "2025-05-11T21:03:16.314930Z",
     "iopub.status.idle": "2025-05-11T21:03:16.496788Z",
     "shell.execute_reply": "2025-05-11T21:03:16.496203Z",
     "shell.execute_reply.started": "2025-05-11T21:03:16.315110Z"
    },
    "trusted": true
   },
   "outputs": [
    {
     "name": "stderr",
     "output_type": "stream",
     "text": [
      "/usr/local/lib/python3.11/dist-packages/IPython/core/pylabtools.py:151: UserWarning: Glyph 129504 (\\N{BRAIN}) missing from current font.\n",
      "  fig.canvas.print_figure(bytes_io, **kw)\n"
     ]
    },
    {
     "data": {
      "image/png": "[encoded data removed]",
      "text/plain": [
       "<Figure size 640x480 with 2 Axes>"
      ]
     },
     "metadata": {},
     "output_type": "display_data"
    }
   ],
   "source": [
    "disp = ConfusionMatrixDisplay.from_predictions(\n",
    "    y_true, y_pred,\n",
    "    display_labels=[\"Negative\", \"Neutral\", \"Positive\"],\n",
    "    cmap=\"Blues\",\n",
    "    normalize=None\n",
    ")\n",
    "disp.ax_.set_title(\"🧠 Confusion Matrix (Test Set)\")\n",
    "plt.show()"
   ]
  },
  {
   "cell_type": "markdown",
   "metadata": {},
   "source": [
    "22/4"
   ]
  },
  {
   "cell_type": "markdown",
   "metadata": {},
   "source": [
    "“Fine-tuning after supervised contrastive pretraining improves downstream task accuracy by aligning learned representations with task-specific decision boundaries.”\n",
    "— Khosla et al., 2020, Supervised Contrastive Learning [[paper link](https://arxiv.org/abs/2004.11362)]"
   ]
  },
  {
   "cell_type": "code",
   "execution_count": 30,
   "metadata": {
    "execution": {
     "iopub.execute_input": "2025-05-11T21:03:16.497689Z",
     "iopub.status.busy": "2025-05-11T21:03:16.497481Z",
     "iopub.status.idle": "2025-05-11T21:03:16.504044Z",
     "shell.execute_reply": "2025-05-11T21:03:16.503392Z",
     "shell.execute_reply.started": "2025-05-11T21:03:16.497673Z"
    },
    "trusted": true
   },
   "outputs": [],
   "source": [
    "class FullFineTuneModel(nn.Module):\n",
    "    def __init__(self, encoder, classifier):\n",
    "        super().__init__()\n",
    "        self.encoder = encoder\n",
    "        self.classifier = classifier\n",
    "\n",
    "    def forward(self, x):\n",
    "        h = self.encoder(x)\n",
    "        out = self.classifier(h)\n",
    "        return out\n",
    "\n",
    "# Make encoder trainable\n",
    "for param in model.encoder.parameters():\n",
    "    param.requires_grad = True\n",
    "\n",
    "full_model = FullFineTuneModel(model.encoder, clf).to(device)\n",
    "\n",
    "criterion_ft = GeneralizedCrossEntropy(q=0.7)\n",
    "optimizer_ft = torch.optim.Adam(full_model.parameters(), lr=5e-4)"
   ]
  },
  {
   "cell_type": "code",
   "execution_count": 31,
   "metadata": {
    "execution": {
     "iopub.execute_input": "2025-05-11T21:03:16.505146Z",
     "iopub.status.busy": "2025-05-11T21:03:16.504897Z",
     "iopub.status.idle": "2025-05-11T21:03:18.204580Z",
     "shell.execute_reply": "2025-05-11T21:03:18.203802Z",
     "shell.execute_reply.started": "2025-05-11T21:03:16.505126Z"
    },
    "trusted": true
   },
   "outputs": [
    {
     "name": "stdout",
     "output_type": "stream",
     "text": [
      "📦 Epoch 1 - Fine-tune Loss: 0.9003 | Val Acc: 0.0000\n",
      "📦 Epoch 2 - Fine-tune Loss: 0.6836 | Val Acc: 0.0000\n",
      "📦 Epoch 3 - Fine-tune Loss: 0.5387 | Val Acc: 0.0296\n",
      "📦 Epoch 4 - Fine-tune Loss: 0.4239 | Val Acc: 0.3333\n",
      "📦 Epoch 5 - Fine-tune Loss: 0.3448 | Val Acc: 0.3333\n",
      "📦 Epoch 6 - Fine-tune Loss: 0.2959 | Val Acc: 0.3333\n",
      "📦 Epoch 7 - Fine-tune Loss: 0.2335 | Val Acc: 0.3333\n",
      "📦 Epoch 8 - Fine-tune Loss: 0.2035 | Val Acc: 0.3333\n",
      "📦 Epoch 9 - Fine-tune Loss: 0.1470 | Val Acc: 0.4148\n",
      "📦 Epoch 10 - Fine-tune Loss: 0.1117 | Val Acc: 0.3333\n",
      "📦 Epoch 11 - Fine-tune Loss: 0.0953 | Val Acc: 0.4667\n",
      "📦 Epoch 12 - Fine-tune Loss: 0.0811 | Val Acc: 0.5037\n",
      "📦 Epoch 13 - Fine-tune Loss: 0.0753 | Val Acc: 0.5481\n",
      "📦 Epoch 14 - Fine-tune Loss: 0.0561 | Val Acc: 0.4963\n",
      "📦 Epoch 15 - Fine-tune Loss: 0.0525 | Val Acc: 0.4963\n",
      "📦 Epoch 16 - Fine-tune Loss: 0.0540 | Val Acc: 0.5185\n",
      "📦 Epoch 17 - Fine-tune Loss: 0.0411 | Val Acc: 0.4963\n",
      "📦 Epoch 18 - Fine-tune Loss: 0.0329 | Val Acc: 0.3778\n",
      "📦 Epoch 19 - Fine-tune Loss: 0.0305 | Val Acc: 0.3333\n",
      "📦 Epoch 20 - Fine-tune Loss: 0.0234 | Val Acc: 0.4889\n",
      "📦 Epoch 21 - Fine-tune Loss: 0.0233 | Val Acc: 0.4296\n",
      "📦 Epoch 22 - Fine-tune Loss: 0.0237 | Val Acc: 0.4593\n",
      "📦 Epoch 23 - Fine-tune Loss: 0.0169 | Val Acc: 0.4148\n",
      "📦 Epoch 24 - Fine-tune Loss: 0.0139 | Val Acc: 0.3704\n",
      "📦 Epoch 25 - Fine-tune Loss: 0.0156 | Val Acc: 0.4074\n",
      "📦 Epoch 26 - Fine-tune Loss: 0.0144 | Val Acc: 0.4667\n",
      "📦 Epoch 27 - Fine-tune Loss: 0.0141 | Val Acc: 0.5111\n",
      "📦 Epoch 28 - Fine-tune Loss: 0.0106 | Val Acc: 0.4000\n",
      "📦 Epoch 29 - Fine-tune Loss: 0.0208 | Val Acc: 0.2296\n",
      "📦 Epoch 30 - Fine-tune Loss: 0.0165 | Val Acc: 0.3333\n",
      "📦 Epoch 31 - Fine-tune Loss: 0.0156 | Val Acc: 0.5259\n",
      "📦 Epoch 32 - Fine-tune Loss: 0.0121 | Val Acc: 0.3926\n",
      "📦 Epoch 33 - Fine-tune Loss: 0.0084 | Val Acc: 0.4148\n",
      "📦 Epoch 34 - Fine-tune Loss: 0.0081 | Val Acc: 0.4296\n",
      "📦 Epoch 35 - Fine-tune Loss: 0.0065 | Val Acc: 0.4222\n",
      "📦 Epoch 36 - Fine-tune Loss: 0.0057 | Val Acc: 0.4074\n",
      "📦 Epoch 37 - Fine-tune Loss: 0.0054 | Val Acc: 0.4222\n",
      "📦 Epoch 38 - Fine-tune Loss: 0.0066 | Val Acc: 0.4148\n",
      "📦 Epoch 39 - Fine-tune Loss: 0.0080 | Val Acc: 0.4815\n",
      "📦 Epoch 40 - Fine-tune Loss: 0.0096 | Val Acc: 0.4074\n",
      "📦 Epoch 41 - Fine-tune Loss: 0.0049 | Val Acc: 0.0815\n",
      "📦 Epoch 42 - Fine-tune Loss: 0.0046 | Val Acc: 0.1185\n",
      "📦 Epoch 43 - Fine-tune Loss: 0.0037 | Val Acc: 0.4519\n",
      "📦 Epoch 44 - Fine-tune Loss: 0.0035 | Val Acc: 0.4741\n",
      "📦 Epoch 45 - Fine-tune Loss: 0.0032 | Val Acc: 0.4741\n",
      "📦 Epoch 46 - Fine-tune Loss: 0.0031 | Val Acc: 0.4444\n",
      "📦 Epoch 47 - Fine-tune Loss: 0.0028 | Val Acc: 0.4444\n",
      "📦 Epoch 48 - Fine-tune Loss: 0.0042 | Val Acc: 0.4741\n",
      "📦 Epoch 49 - Fine-tune Loss: 0.0032 | Val Acc: 0.3481\n",
      "📦 Epoch 50 - Fine-tune Loss: 0.0037 | Val Acc: 0.4889\n",
      "📦 Epoch 51 - Fine-tune Loss: 0.0027 | Val Acc: 0.4296\n",
      "📦 Epoch 52 - Fine-tune Loss: 0.0034 | Val Acc: 0.4370\n",
      "📦 Epoch 53 - Fine-tune Loss: 0.0036 | Val Acc: 0.4222\n",
      "📦 Epoch 54 - Fine-tune Loss: 0.0038 | Val Acc: 0.4074\n",
      "📦 Epoch 55 - Fine-tune Loss: 0.0034 | Val Acc: 0.3333\n",
      "📦 Epoch 56 - Fine-tune Loss: 0.0036 | Val Acc: 0.4889\n",
      "📦 Epoch 57 - Fine-tune Loss: 0.0026 | Val Acc: 0.4296\n",
      "📦 Epoch 58 - Fine-tune Loss: 0.0029 | Val Acc: 0.1481\n",
      "📦 Epoch 59 - Fine-tune Loss: 0.0016 | Val Acc: 0.2889\n",
      "📦 Epoch 60 - Fine-tune Loss: 0.0015 | Val Acc: 0.3333\n"
     ]
    }
   ],
   "source": [
    "epochs = 60\n",
    "\n",
    "for epoch in range(1, epochs + 1):\n",
    "    full_model.train()\n",
    "    running_loss = 0.0\n",
    "    for de, label, _, _ in train_loader:\n",
    "        de = de.to(device)\n",
    "        label = label.to(device)\n",
    "\n",
    "        logits = full_model(de)\n",
    "        loss = criterion_ft(logits, label)\n",
    "\n",
    "        optimizer_ft.zero_grad()\n",
    "        loss.backward()\n",
    "        optimizer_ft.step()\n",
    "\n",
    "        running_loss += loss.item()\n",
    "    \n",
    "    train_loss = running_loss / len(train_loader)\n",
    "\n",
    "    # Validation\n",
    "    full_model.eval()\n",
    "    total_correct = 0\n",
    "    total_samples = 0\n",
    "    with torch.no_grad():\n",
    "        for de, label, _, _ in val_loader:\n",
    "            de = de.to(device)\n",
    "            label = label.to(device)\n",
    "\n",
    "            val_logits = full_model(de)\n",
    "            preds = torch.argmax(val_logits, dim=1)\n",
    "            total_correct += (preds == label).sum().item()\n",
    "            total_samples += label.size(0)\n",
    "\n",
    "    val_acc = total_correct / total_samples\n",
    "    print(f\"📦 Epoch {epoch} - Fine-tune Loss: {train_loss:.4f} | Val Acc: {val_acc:.4f}\")\n"
   ]
  },
  {
   "cell_type": "code",
   "execution_count": 32,
   "metadata": {
    "execution": {
     "iopub.execute_input": "2025-05-11T21:03:18.205681Z",
     "iopub.status.busy": "2025-05-11T21:03:18.205423Z",
     "iopub.status.idle": "2025-05-11T21:03:18.218515Z",
     "shell.execute_reply": "2025-05-11T21:03:18.217747Z",
     "shell.execute_reply.started": "2025-05-11T21:03:18.205658Z"
    },
    "trusted": true
   },
   "outputs": [
    {
     "name": "stdout",
     "output_type": "stream",
     "text": [
      "✅ Fine-Tuned Test Accuracy: 34.074074074074076 %\n"
     ]
    }
   ],
   "source": [
    "from sklearn.metrics import accuracy_score, classification_report, confusion_matrix, ConfusionMatrixDisplay\n",
    "\n",
    "y_true = []\n",
    "y_pred = []\n",
    "\n",
    "full_model.eval()\n",
    "with torch.no_grad():\n",
    "    for de, label, _, _ in test_loader:\n",
    "        de = de.to(device)\n",
    "        label = label.to(device)\n",
    "        output = full_model(de)\n",
    "        preds = torch.argmax(output, dim=1)\n",
    "        y_pred.extend(preds.cpu().numpy())\n",
    "        y_true.extend(label.cpu().numpy())\n",
    "\n",
    "print(\"✅ Fine-Tuned Test Accuracy:\", accuracy_score(y_true, y_pred) * 100, \"%\")"
   ]
  },
  {
   "cell_type": "code",
   "execution_count": 33,
   "metadata": {
    "execution": {
     "iopub.execute_input": "2025-05-11T21:03:18.219580Z",
     "iopub.status.busy": "2025-05-11T21:03:18.219321Z",
     "iopub.status.idle": "2025-05-11T21:03:18.235815Z",
     "shell.execute_reply": "2025-05-11T21:03:18.235142Z",
     "shell.execute_reply.started": "2025-05-11T21:03:18.219556Z"
    },
    "trusted": true
   },
   "outputs": [],
   "source": [
    "def remap_labels(y):\n",
    "    return torch.where(y == -1, 0, torch.where(y == 0, 1, 2))\n",
    "\n",
    "y_true = remap_labels(torch.tensor(y_true)).numpy()\n",
    "y_pred = remap_labels(torch.tensor(y_pred)).numpy()"
   ]
  },
  {
   "cell_type": "code",
   "execution_count": 34,
   "metadata": {
    "execution": {
     "iopub.execute_input": "2025-05-11T21:03:18.236758Z",
     "iopub.status.busy": "2025-05-11T21:03:18.236527Z",
     "iopub.status.idle": "2025-05-11T21:03:18.423125Z",
     "shell.execute_reply": "2025-05-11T21:03:18.422324Z",
     "shell.execute_reply.started": "2025-05-11T21:03:18.236742Z"
    },
    "trusted": true
   },
   "outputs": [
    {
     "name": "stdout",
     "output_type": "stream",
     "text": [
      "\n",
      "📄 Classification Report:\n",
      "              precision    recall  f1-score   support\n",
      "\n",
      "    Negative       0.00      0.00      0.00        45\n",
      "     Neutral       0.06      0.02      0.03        45\n",
      "    Positive       0.38      1.00      0.55        45\n",
      "\n",
      "    accuracy                           0.34       135\n",
      "   macro avg       0.15      0.34      0.19       135\n",
      "weighted avg       0.15      0.34      0.19       135\n",
      "\n"
     ]
    },
    {
     "name": "stderr",
     "output_type": "stream",
     "text": [
      "/usr/local/lib/python3.11/dist-packages/sklearn/metrics/_classification.py:1344: UndefinedMetricWarning: Precision and F-score are ill-defined and being set to 0.0 in labels with no predicted samples. Use `zero_division` parameter to control this behavior.\n",
      "  _warn_prf(average, modifier, msg_start, len(result))\n",
      "/usr/local/lib/python3.11/dist-packages/sklearn/metrics/_classification.py:1344: UndefinedMetricWarning: Precision and F-score are ill-defined and being set to 0.0 in labels with no predicted samples. Use `zero_division` parameter to control this behavior.\n",
      "  _warn_prf(average, modifier, msg_start, len(result))\n",
      "/usr/local/lib/python3.11/dist-packages/sklearn/metrics/_classification.py:1344: UndefinedMetricWarning: Precision and F-score are ill-defined and being set to 0.0 in labels with no predicted samples. Use `zero_division` parameter to control this behavior.\n",
      "  _warn_prf(average, modifier, msg_start, len(result))\n",
      "/usr/local/lib/python3.11/dist-packages/IPython/core/pylabtools.py:151: UserWarning: Glyph 129504 (\\N{BRAIN}) missing from current font.\n",
      "  fig.canvas.print_figure(bytes_io, **kw)\n"
     ]
    },
    {
     "data": {
      "image/png": "[encoded data removed]",
      "text/plain": [
       "<Figure size 640x480 with 2 Axes>"
      ]
     },
     "metadata": {},
     "output_type": "display_data"
    }
   ],
   "source": [
    "print(\"\\n📄 Classification Report:\")\n",
    "print(classification_report(y_true, y_pred, target_names=[\"Negative\", \"Neutral\", \"Positive\"]))\n",
    "\n",
    "ConfusionMatrixDisplay.from_predictions(\n",
    "    y_true, y_pred,\n",
    "    display_labels=[\"Negative\", \"Neutral\", \"Positive\"],\n",
    "    cmap=\"Blues\"\n",
    ")\n",
    "plt.title(\"🧠 Confusion Matrix (Fine-Tuned Model)\")\n",
    "plt.show()"
   ]
  },
  {
   "cell_type": "code",
   "execution_count": 35,
   "metadata": {
    "execution": {
     "iopub.execute_input": "2025-05-11T21:03:18.424211Z",
     "iopub.status.busy": "2025-05-11T21:03:18.423954Z",
     "iopub.status.idle": "2025-05-11T21:03:18.434863Z",
     "shell.execute_reply": "2025-05-11T21:03:18.434306Z",
     "shell.execute_reply.started": "2025-05-11T21:03:18.424186Z"
    },
    "trusted": true
   },
   "outputs": [],
   "source": [
    "from sklearn.manifold import TSNE\n",
    "import matplotlib.pyplot as plt\n",
    "import numpy as np\n",
    "\n",
    "# Store features and true labels\n",
    "features = []\n",
    "labels = []\n",
    "\n",
    "full_model.eval()\n",
    "with torch.no_grad():\n",
    "    for de, label, _, _ in test_loader:\n",
    "        de = de.to(device)\n",
    "        h = full_model.encoder(de)  # shape: [batch, 128]\n",
    "        features.append(h.cpu())\n",
    "        labels.append(label)\n",
    "\n",
    "X_tsne = torch.cat(features, dim=0).numpy()\n",
    "y_tsne = torch.cat(labels, dim=0).numpy()\n",
    "\n",
    "# Remap if needed\n",
    "y_tsne = remap_labels(torch.tensor(y_tsne)).numpy()\n"
   ]
  },
  {
   "cell_type": "code",
   "execution_count": 36,
   "metadata": {
    "execution": {
     "iopub.execute_input": "2025-05-11T21:03:18.435852Z",
     "iopub.status.busy": "2025-05-11T21:03:18.435606Z",
     "iopub.status.idle": "2025-05-11T21:03:19.023196Z",
     "shell.execute_reply": "2025-05-11T21:03:19.022437Z",
     "shell.execute_reply.started": "2025-05-11T21:03:18.435831Z"
    },
    "trusted": true
   },
   "outputs": [
    {
     "name": "stdout",
     "output_type": "stream",
     "text": [
      "🔍 Running t-SNE...\n"
     ]
    },
    {
     "data": {
      "image/png": "[encoded data removed]",
      "text/plain": [
       "<Figure size 800x600 with 1 Axes>"
      ]
     },
     "metadata": {},
     "output_type": "display_data"
    }
   ],
   "source": [
    "print(\"🔍 Running t-SNE...\")\n",
    "tsne = TSNE(n_components=2, perplexity=30, learning_rate='auto', init='pca', random_state=42)\n",
    "X_2d = tsne.fit_transform(X_tsne)\n",
    "\n",
    "label_names = [\"Negative\", \"Neutral\", \"Positive\"]\n",
    "colors = [\"red\", \"gray\", \"green\"]\n",
    "\n",
    "plt.figure(figsize=(8, 6))\n",
    "for class_idx in np.unique(y_tsne):\n",
    "    idx = y_tsne == class_idx\n",
    "    plt.scatter(X_2d[idx, 0], X_2d[idx, 1], label=label_names[class_idx], alpha=0.7)\n",
    "\n",
    "plt.title(\"t-SNE of Test Embeddings (Fine-Tuned Encoder)\")\n",
    "plt.xlabel(\"TSNE-1\")\n",
    "plt.ylabel(\"TSNE-2\")\n",
    "plt.legend()\n",
    "plt.grid(True)\n",
    "plt.show()"
   ]
  },
  {
   "cell_type": "code",
   "execution_count": 37,
   "metadata": {
    "execution": {
     "iopub.execute_input": "2025-05-11T21:03:19.024751Z",
     "iopub.status.busy": "2025-05-11T21:03:19.024027Z",
     "iopub.status.idle": "2025-05-11T21:03:19.085800Z",
     "shell.execute_reply": "2025-05-11T21:03:19.085050Z",
     "shell.execute_reply.started": "2025-05-11T21:03:19.024727Z"
    },
    "trusted": true
   },
   "outputs": [
    {
     "name": "stdout",
     "output_type": "stream",
     "text": [
      "✅ Keys in /kaggle/input/eeg-extracted-4s/ExtractedFeatures_4s/12_20131127.mat:\n",
      "de_movingAve1: shape = (62, 58, 5) | type = <class 'numpy.ndarray'>\n",
      "de_LDS1: shape = (62, 58, 5) | type = <class 'numpy.ndarray'>\n",
      "psd_movingAve1: shape = (62, 58, 5) | type = <class 'numpy.ndarray'>\n",
      "psd_LDS1: shape = (62, 58, 5) | type = <class 'numpy.ndarray'>\n",
      "de_movingAve2: shape = (62, 58, 5) | type = <class 'numpy.ndarray'>\n",
      "de_LDS2: shape = (62, 58, 5) | type = <class 'numpy.ndarray'>\n",
      "psd_movingAve2: shape = (62, 58, 5) | type = <class 'numpy.ndarray'>\n",
      "psd_LDS2: shape = (62, 58, 5) | type = <class 'numpy.ndarray'>\n",
      "de_movingAve3: shape = (62, 51, 5) | type = <class 'numpy.ndarray'>\n",
      "de_LDS3: shape = (62, 51, 5) | type = <class 'numpy.ndarray'>\n",
      "psd_movingAve3: shape = (62, 51, 5) | type = <class 'numpy.ndarray'>\n",
      "psd_LDS3: shape = (62, 51, 5) | type = <class 'numpy.ndarray'>\n",
      "de_movingAve4: shape = (62, 59, 5) | type = <class 'numpy.ndarray'>\n",
      "de_LDS4: shape = (62, 59, 5) | type = <class 'numpy.ndarray'>\n",
      "psd_movingAve4: shape = (62, 59, 5) | type = <class 'numpy.ndarray'>\n",
      "psd_LDS4: shape = (62, 59, 5) | type = <class 'numpy.ndarray'>\n",
      "de_movingAve5: shape = (62, 46, 5) | type = <class 'numpy.ndarray'>\n",
      "de_LDS5: shape = (62, 46, 5) | type = <class 'numpy.ndarray'>\n",
      "psd_movingAve5: shape = (62, 46, 5) | type = <class 'numpy.ndarray'>\n",
      "psd_LDS5: shape = (62, 46, 5) | type = <class 'numpy.ndarray'>\n",
      "de_movingAve6: shape = (62, 48, 5) | type = <class 'numpy.ndarray'>\n",
      "de_LDS6: shape = (62, 48, 5) | type = <class 'numpy.ndarray'>\n",
      "psd_movingAve6: shape = (62, 48, 5) | type = <class 'numpy.ndarray'>\n",
      "psd_LDS6: shape = (62, 48, 5) | type = <class 'numpy.ndarray'>\n",
      "de_movingAve7: shape = (62, 59, 5) | type = <class 'numpy.ndarray'>\n",
      "de_LDS7: shape = (62, 59, 5) | type = <class 'numpy.ndarray'>\n",
      "psd_movingAve7: shape = (62, 59, 5) | type = <class 'numpy.ndarray'>\n",
      "psd_LDS7: shape = (62, 59, 5) | type = <class 'numpy.ndarray'>\n",
      "de_movingAve8: shape = (62, 54, 5) | type = <class 'numpy.ndarray'>\n",
      "de_LDS8: shape = (62, 54, 5) | type = <class 'numpy.ndarray'>\n",
      "psd_movingAve8: shape = (62, 54, 5) | type = <class 'numpy.ndarray'>\n",
      "psd_LDS8: shape = (62, 54, 5) | type = <class 'numpy.ndarray'>\n",
      "de_movingAve9: shape = (62, 66, 5) | type = <class 'numpy.ndarray'>\n",
      "de_LDS9: shape = (62, 66, 5) | type = <class 'numpy.ndarray'>\n",
      "psd_movingAve9: shape = (62, 66, 5) | type = <class 'numpy.ndarray'>\n",
      "psd_LDS9: shape = (62, 66, 5) | type = <class 'numpy.ndarray'>\n",
      "de_movingAve10: shape = (62, 59, 5) | type = <class 'numpy.ndarray'>\n",
      "de_LDS10: shape = (62, 59, 5) | type = <class 'numpy.ndarray'>\n",
      "psd_movingAve10: shape = (62, 59, 5) | type = <class 'numpy.ndarray'>\n",
      "psd_LDS10: shape = (62, 59, 5) | type = <class 'numpy.ndarray'>\n",
      "de_movingAve11: shape = (62, 58, 5) | type = <class 'numpy.ndarray'>\n",
      "de_LDS11: shape = (62, 58, 5) | type = <class 'numpy.ndarray'>\n",
      "psd_movingAve11: shape = (62, 58, 5) | type = <class 'numpy.ndarray'>\n",
      "psd_LDS11: shape = (62, 58, 5) | type = <class 'numpy.ndarray'>\n",
      "de_movingAve12: shape = (62, 58, 5) | type = <class 'numpy.ndarray'>\n",
      "de_LDS12: shape = (62, 58, 5) | type = <class 'numpy.ndarray'>\n",
      "psd_movingAve12: shape = (62, 58, 5) | type = <class 'numpy.ndarray'>\n",
      "psd_LDS12: shape = (62, 58, 5) | type = <class 'numpy.ndarray'>\n",
      "de_movingAve13: shape = (62, 58, 5) | type = <class 'numpy.ndarray'>\n",
      "de_LDS13: shape = (62, 58, 5) | type = <class 'numpy.ndarray'>\n",
      "psd_movingAve13: shape = (62, 58, 5) | type = <class 'numpy.ndarray'>\n",
      "psd_LDS13: shape = (62, 58, 5) | type = <class 'numpy.ndarray'>\n",
      "de_movingAve14: shape = (62, 59, 5) | type = <class 'numpy.ndarray'>\n",
      "de_LDS14: shape = (62, 59, 5) | type = <class 'numpy.ndarray'>\n",
      "psd_movingAve14: shape = (62, 59, 5) | type = <class 'numpy.ndarray'>\n",
      "psd_LDS14: shape = (62, 59, 5) | type = <class 'numpy.ndarray'>\n",
      "de_movingAve15: shape = (62, 51, 5) | type = <class 'numpy.ndarray'>\n",
      "de_LDS15: shape = (62, 51, 5) | type = <class 'numpy.ndarray'>\n",
      "psd_movingAve15: shape = (62, 51, 5) | type = <class 'numpy.ndarray'>\n",
      "psd_LDS15: shape = (62, 51, 5) | type = <class 'numpy.ndarray'>\n"
     ]
    }
   ],
   "source": [
    "import scipy.io\n",
    "\n",
    "# Replace this path with your actual .mat file path\n",
    "file_path = \"/kaggle/input/eeg-extracted-4s/ExtractedFeatures_4s/12_20131127.mat\"\n",
    "\n",
    "# Load .mat file\n",
    "mat_data = scipy.io.loadmat(file_path)\n",
    "\n",
    "# Print all keys and shapes\n",
    "print(f\"✅ Keys in {file_path}:\")\n",
    "for key in mat_data:\n",
    "    if not key.startswith('__'):  # Skip metadata keys\n",
    "        value = mat_data[key]\n",
    "        print(f\"{key}: shape = {value.shape} | type = {type(value)}\")\n",
    "        # Optional preview:\n",
    "        if hasattr(value, 'shape') and len(value.shape) > 0 and value.size < 100:\n",
    "            print(\"Preview:\", value)\n"
   ]
  }
 ],
 "metadata": {
  "kaggle": {
   "accelerator": "nvidiaTeslaT4",
   "dataSources": [
    {
     "datasetId": 7170894,
     "sourceId": 11446179,
     "sourceType": "datasetVersion"
    }
   ],
   "dockerImageVersionId": 31011,
   "isGpuEnabled": true,
   "isInternetEnabled": true,
   "language": "python",
   "sourceType": "notebook"
  },
  "kernelspec": {
   "display_name": "Python 3",
   "language": "python",
   "name": "python3"
  },
  "language_info": {
   "codemirror_mode": {
    "name": "ipython",
    "version": 3
   },
   "file_extension": ".py",
   "mimetype": "text/x-python",
   "name": "python",
   "nbconvert_exporter": "python",
   "pygments_lexer": "ipython3",
   "version": "3.11.11"
  }
 },
 "nbformat": 4,
 "nbformat_minor": 4
}
