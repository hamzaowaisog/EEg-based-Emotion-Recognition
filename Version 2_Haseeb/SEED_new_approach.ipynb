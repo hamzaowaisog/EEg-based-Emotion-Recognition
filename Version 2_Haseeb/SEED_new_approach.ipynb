{
 "cells": [
  {
   "cell_type": "code",
   "execution_count": 3,
   "metadata": {},
   "outputs": [
    {
     "name": "stderr",
     "output_type": "stream",
     "text": [
      "[2024-12-09 08:35:47] INFO (torcheeg/MainThread) 🔍 | Processing EEG data. Processed EEG data has been cached to \u001b[92m.torcheeg\\datasets_1733715347957_kpOBf\u001b[0m.\n",
      "[2024-12-09 08:35:47] INFO (torcheeg/MainThread) ⏳ | Monitoring the detailed processing of a record for debugging. The processing of other records will only be reported in percentage to keep it clean.\n",
      "[PROCESS]: 100%|██████████| 45/45 [3:50:18<00:00, 307.07s/it]  \n",
      "[2024-12-09 12:56:29] INFO (torcheeg/MainThread) ✅ | All processed EEG data has been cached to .torcheeg\\datasets_1733715347957_kpOBf.\n",
      "[2024-12-09 12:56:29] INFO (torcheeg/MainThread) 😊 | Please set \u001b[92mio_path\u001b[0m to \u001b[92m.torcheeg\\datasets_1733715347957_kpOBf\u001b[0m for the next run, to directly read from the cache if you wish to skip the data processing step.\n"
     ]
    },
    {
     "name": "stdout",
     "output_type": "stream",
     "text": [
      "Raw EEG data shape: (62, 200)\n"
     ]
    }
   ],
   "source": [
    "from torcheeg.datasets import SEEDDataset\n",
    "from torcheeg import transforms\n",
    "\n",
    "raw_dataset = SEEDDataset(\n",
    "    root_path='D:/FAST/EEg-based-Emotion-Recognition/Preprocessed_Output',\n",
    "    online_transform=None,  # Disable transforms\n",
    "    label_transform=None,\n",
    "    num_worker=4\n",
    ")\n",
    "\n",
    "raw_sample = raw_dataset[0]\n",
    "print(f\"Raw EEG data shape: {raw_sample[0].shape}\")  # Should be [62, ...] for SEED"
   ]
  },
  {
   "cell_type": "code",
   "execution_count": 4,
   "metadata": {},
   "outputs": [
    {
     "name": "stdout",
     "output_type": "stream",
     "text": [
      "Dataset contains 152730 samples.\n",
      "Dataset size: 2\n",
      "Sample format: (array([[-1.20808898, -0.65267405,  0.7209184 , ...,  1.51875867,\n",
      "        -2.17627333, -1.7973418 ],\n",
      "       [-1.41225531, -1.49252691, -7.47129532, ...,  1.23133106,\n",
      "        -4.84282083, -2.4951935 ],\n",
      "       [-5.02980758, -3.46683843, -7.47129532, ...,  0.98380318,\n",
      "        -4.84282083, -2.4951935 ],\n",
      "       ...,\n",
      "       [ 4.69403114,  4.95968405,  5.32328351, ..., -2.72182774,\n",
      "        -0.39648423,  2.98181626],\n",
      "       [ 4.69403114,  4.95968405,  5.32328351, ..., -1.69587234,\n",
      "         0.83563285, -0.46134183],\n",
      "       [ 4.69403114,  4.53049592,  3.53842749, ..., -1.69587234,\n",
      "         0.83563285, -0.46134183]]), {'start_at': 0, 'end_at': 200, 'clip_id': '10_20131130.mat_0', 'subject_id': 10, 'trial_id': 'ww_eeg1', 'emotion': 0, 'date': 20131130, '_record_id': '_record_0'})\n"
     ]
    }
   ],
   "source": [
    "#D:\\FAST\\EEg-based-Emotion-Recognition\\Version 2_Haseeb\\.torcheeg\\datasets_1733715347957_kpOBf\n",
    "\n",
    "\n",
    "from torcheeg.model_selection import LeaveOneSubjectOut\n",
    "from torch.utils.data import DataLoader\n",
    "\n",
    "print(f\"Dataset contains {len(raw_dataset)} samples.\")\n",
    "print(f\"Dataset size: {len(raw_sample)}\")\n",
    "print(f\"Sample format: {raw_dataset[0]}\")  # Check a single sample"
   ]
  },
  {
   "cell_type": "code",
   "execution_count": null,
   "metadata": {},
   "outputs": [
    {
     "name": "stderr",
     "output_type": "stream",
     "text": [
      "[PROCESS]:  15%|█▌        | 7/46 [4:39:10<25:55:24, 2392.95s/it]\n"
     ]
    }
   ],
   "source": [
    "from collections import defaultdict\n",
    "\n",
    "# Organize data by emotion classes\n",
    "emotion_classes = defaultdict(list)\n",
    "for sample, metadata in raw_dataset:\n",
    "    emotion = metadata['emotion']  # Assume emotion: -1 (negative), 0 (neutral), 1 (positive)\n",
    "    emotion_classes[emotion].append((sample, metadata))\n",
    "    \n",
    "print({emotion: len(samples) for emotion, samples in emotion_classes.items()})\n"
   ]
  },
  {
   "cell_type": "code",
   "execution_count": null,
   "metadata": {},
   "outputs": [],
   "source": [
    "for i, sample in enumerate(raw_dataset):\n",
    "    assert sample[0].shape == (62, 200), f\"Mismatch at sample {i}\""
   ]
  }
 ],
 "metadata": {
  "kernelspec": {
   "display_name": ".venv",
   "language": "python",
   "name": "python3"
  },
  "language_info": {
   "codemirror_mode": {
    "name": "ipython",
    "version": 3
   },
   "file_extension": ".py",
   "mimetype": "text/x-python",
   "name": "python",
   "nbconvert_exporter": "python",
   "pygments_lexer": "ipython3",
   "version": "3.12.4"
  }
 },
 "nbformat": 4,
 "nbformat_minor": 2
}
